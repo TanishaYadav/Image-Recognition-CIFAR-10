{
  "nbformat": 4,
  "nbformat_minor": 0,
  "metadata": {
    "colab": {
      "name": "CIFAR-10 CNN.ipynb",
      "provenance": [],
      "collapsed_sections": []
    },
    "kernelspec": {
      "name": "python3",
      "display_name": "Python 3"
    },
    "language_info": {
      "name": "python"
    }
  },
  "cells": [
    {
      "cell_type": "markdown",
      "source": [
        "#Loading Libraries"
      ],
      "metadata": {
        "id": "noIraEcEUNL_"
      }
    },
    {
      "cell_type": "code",
      "execution_count": null,
      "metadata": {
        "id": "f1ePR7AwU4__"
      },
      "outputs": [],
      "source": [
        "import numpy as np\n",
        "import matplotlib.pyplot as plt\n",
        "import seaborn as sns\n",
        "import tensorflow as tf "
      ]
    },
    {
      "cell_type": "markdown",
      "source": [
        "# Loading Dataset\n",
        "**CIFAR-10** : https://www.cs.toronto.edu/~kriz/cifar-10-python.tar.gz"
      ],
      "metadata": {
        "id": "QzfvF5mGUSyK"
      }
    },
    {
      "cell_type": "code",
      "source": [
        "cifar10 = tf.keras.datasets.cifar10\n",
        "(X_train, y_train), (X_test, y_test) = cifar10.load_data()"
      ],
      "metadata": {
        "id": "S2QQ0OuuV08G",
        "colab": {
          "base_uri": "https://localhost:8080/"
        },
        "outputId": "49a36cf4-a456-42bf-aebf-15f29a78d3f2"
      },
      "execution_count": null,
      "outputs": [
        {
          "output_type": "stream",
          "name": "stdout",
          "text": [
            "Downloading data from https://www.cs.toronto.edu/~kriz/cifar-10-python.tar.gz\n",
            "170500096/170498071 [==============================] - 2s 0us/step\n",
            "170508288/170498071 [==============================] - 2s 0us/step\n"
          ]
        }
      ]
    },
    {
      "cell_type": "code",
      "source": [
        "print(X_train.shape, X_test.shape, y_train.shape, y_test.shape)"
      ],
      "metadata": {
        "colab": {
          "base_uri": "https://localhost:8080/"
        },
        "id": "5LLaKSdeWBqU",
        "outputId": "ba81d5f3-6b54-48b4-8778-240af90406c3"
      },
      "execution_count": null,
      "outputs": [
        {
          "output_type": "stream",
          "name": "stdout",
          "text": [
            "(50000, 32, 32, 3) (10000, 32, 32, 3) (50000, 1) (10000, 1)\n"
          ]
        }
      ]
    },
    {
      "cell_type": "code",
      "source": [
        "labels = ['Airplane', 'Automobile', 'Bird', 'Cat', 'Deer', 'Dog', 'Frog', 'Horse', 'Ship', 'Truck']"
      ],
      "metadata": {
        "id": "k-3DCDhmWERo"
      },
      "execution_count": null,
      "outputs": []
    },
    {
      "cell_type": "code",
      "source": [
        "y_train  # list of lists"
      ],
      "metadata": {
        "colab": {
          "base_uri": "https://localhost:8080/"
        },
        "id": "7e3YafQMsIx9",
        "outputId": "f0125486-871b-4aaa-f569-9bb0d86f3dc9"
      },
      "execution_count": null,
      "outputs": [
        {
          "output_type": "execute_result",
          "data": {
            "text/plain": [
              "array([[6],\n",
              "       [9],\n",
              "       [9],\n",
              "       ...,\n",
              "       [9],\n",
              "       [1],\n",
              "       [1]], dtype=uint8)"
            ]
          },
          "metadata": {},
          "execution_count": 5
        }
      ]
    },
    {
      "cell_type": "code",
      "source": [
        "# y_train.flatten()"
      ],
      "metadata": {
        "id": "pRWR7atDwF0-"
      },
      "execution_count": null,
      "outputs": []
    },
    {
      "cell_type": "markdown",
      "source": [
        "#View Dataset"
      ],
      "metadata": {
        "id": "S2vYUvNqUfWK"
      }
    },
    {
      "cell_type": "code",
      "source": [
        "fig, axes = plt.subplots(ncols = 5, nrows = 5, figsize = (12, 12))\n",
        "\n",
        "index = 0 \n",
        "for i in range(5):\n",
        "  for j in range(5):\n",
        "    axes[i,j].set_title(labels[y_train[index][0]])\n",
        "    axes[i,j].imshow(X_train[index])\n",
        "    axes[i,j].get_xaxis().set_visible(False)\n",
        "    axes[i,j].get_yaxis().set_visible(False)\n",
        "    index += 1\n",
        "\n"
      ],
      "metadata": {
        "colab": {
          "base_uri": "https://localhost:8080/",
          "height": 703
        },
        "id": "DUmCV8mFoy2A",
        "outputId": "cf84882f-cd91-4f92-9099-f8029d37ddb8"
      },
      "execution_count": null,
      "outputs": [
        {
          "output_type": "display_data",
          "data": {
            "text/plain": [
              "<Figure size 864x864 with 25 Axes>"
            ],
            "image/png": "[encoded data removed]"
          },
          "metadata": {
            "needs_background": "light"
          }
        }
      ]
    },
    {
      "cell_type": "markdown",
      "source": [
        "# Convert coloured images to grayscale"
      ],
      "metadata": {
        "id": "GPJ6fF99UlNL"
      }
    },
    {
      "cell_type": "code",
      "source": [
        "import cv2"
      ],
      "metadata": {
        "id": "HCy118eSqb7N"
      },
      "execution_count": null,
      "outputs": []
    },
    {
      "cell_type": "code",
      "source": [
        "X_train = np.array([cv2.cvtColor(image, cv2.COLOR_BGR2GRAY) for image in X_train])\n",
        "X_test = np.array([cv2.cvtColor(image, cv2.COLOR_BGR2GRAY) for image in X_test])"
      ],
      "metadata": {
        "id": "rPOMsIcurGhY"
      },
      "execution_count": null,
      "outputs": []
    },
    {
      "cell_type": "code",
      "source": [
        "fig, axes = plt.subplots(ncols = 5, nrows = 5, figsize = (12, 12))\n",
        "\n",
        "index = 0 \n",
        "for i in range(5):\n",
        "  for j in range(5):\n",
        "    axes[i,j].set_title(labels[y_train[index][0]])\n",
        "    axes[i,j].imshow(X_train[index])\n",
        "    axes[i,j].get_xaxis().set_visible(False)\n",
        "    axes[i,j].get_yaxis().set_visible(False)\n",
        "    index += 1\n",
        "\n"
      ],
      "metadata": {
        "colab": {
          "base_uri": "https://localhost:8080/",
          "height": 703
        },
        "id": "ancObGs4rGjz",
        "outputId": "8a216844-2bfc-4274-a084-b06a32ff93ff"
      },
      "execution_count": null,
      "outputs": [
        {
          "output_type": "display_data",
          "data": {
            "text/plain": [
              "<Figure size 864x864 with 25 Axes>"
            ],
            "image/png": "[encoded data removed]"
          },
          "metadata": {
            "needs_background": "light"
          }
        }
      ]
    },
    {
      "cell_type": "code",
      "source": [
        "fig, axes = plt.subplots(ncols = 5, nrows = 5, figsize = (12, 12))\n",
        "\n",
        "index = 0 \n",
        "for i in range(5):\n",
        "  for j in range(5):\n",
        "    axes[i,j].set_title(labels[y_train[index][0]])\n",
        "    axes[i,j].imshow(X_train[index], cmap='gray')\n",
        "    axes[i,j].get_xaxis().set_visible(False)\n",
        "    axes[i,j].get_yaxis().set_visible(False)\n",
        "    index += 1\n"
      ],
      "metadata": {
        "colab": {
          "base_uri": "https://localhost:8080/",
          "height": 703
        },
        "id": "ISzRtZvKrGmL",
        "outputId": "ee46c98b-37ae-4f8b-be72-cf312ac349de"
      },
      "execution_count": null,
      "outputs": [
        {
          "output_type": "display_data",
          "data": {
            "text/plain": [
              "<Figure size 864x864 with 25 Axes>"
            ],
            "image/png": "[encoded data removed]"
          },
          "metadata": {
            "needs_background": "light"
          }
        }
      ]
    },
    {
      "cell_type": "markdown",
      "source": [
        "# Normalization"
      ],
      "metadata": {
        "id": "ZpytJi5RUuiJ"
      }
    },
    {
      "cell_type": "code",
      "source": [
        "X_train  = X_train/255.0\n",
        "X_test  = X_test/255.0"
      ],
      "metadata": {
        "id": "QI0JQEBHrGuU"
      },
      "execution_count": null,
      "outputs": []
    },
    {
      "cell_type": "code",
      "source": [
        "# from sklearn.preprocessing import OneHotEncoder\n",
        "\n",
        "# one_hot_enc = OneHotEncoder(sparse = False)\n",
        "# y_train = one_hot_enc.fit_transform(y_train)\n",
        "# y_test = one_hot_enc.transform(y_test)"
      ],
      "metadata": {
        "id": "PkoD-hRbrGy6"
      },
      "execution_count": null,
      "outputs": []
    },
    {
      "cell_type": "markdown",
      "source": [
        "# One Hot Encoding"
      ],
      "metadata": {
        "id": "dJKxjVf9UxpM"
      }
    },
    {
      "cell_type": "code",
      "source": [
        "y_train = tf.keras.utils.to_categorical(y_train, 10)\n",
        "y_test = tf.keras.utils.to_categorical(y_test, 10)"
      ],
      "metadata": {
        "id": "5PK9ZD4W29qp"
      },
      "execution_count": null,
      "outputs": []
    },
    {
      "cell_type": "code",
      "source": [
        "y_train"
      ],
      "metadata": {
        "colab": {
          "base_uri": "https://localhost:8080/"
        },
        "id": "X7Cpdfbpv17R",
        "outputId": "3c6e3301-eb2a-4c0e-a159-f3cdbe423fb0"
      },
      "execution_count": null,
      "outputs": [
        {
          "output_type": "execute_result",
          "data": {
            "text/plain": [
              "array([[0., 0., 0., ..., 0., 0., 0.],\n",
              "       [0., 0., 0., ..., 0., 0., 1.],\n",
              "       [0., 0., 0., ..., 0., 0., 1.],\n",
              "       ...,\n",
              "       [0., 0., 0., ..., 0., 0., 1.],\n",
              "       [0., 1., 0., ..., 0., 0., 0.],\n",
              "       [0., 1., 0., ..., 0., 0., 0.]], dtype=float32)"
            ]
          },
          "metadata": {},
          "execution_count": 15
        }
      ]
    },
    {
      "cell_type": "code",
      "source": [
        "y_test"
      ],
      "metadata": {
        "colab": {
          "base_uri": "https://localhost:8080/"
        },
        "id": "AW-AqhNEYf26",
        "outputId": "725112ff-ba57-4b53-c9b4-19165465bf1b"
      },
      "execution_count": null,
      "outputs": [
        {
          "output_type": "execute_result",
          "data": {
            "text/plain": [
              "array([[0., 0., 0., ..., 0., 0., 0.],\n",
              "       [0., 0., 0., ..., 0., 1., 0.],\n",
              "       [0., 0., 0., ..., 0., 1., 0.],\n",
              "       ...,\n",
              "       [0., 0., 0., ..., 0., 0., 0.],\n",
              "       [0., 1., 0., ..., 0., 0., 0.],\n",
              "       [0., 0., 0., ..., 1., 0., 0.]], dtype=float32)"
            ]
          },
          "metadata": {},
          "execution_count": 16
        }
      ]
    },
    {
      "cell_type": "markdown",
      "source": [
        "# Reshaping"
      ],
      "metadata": {
        "id": "VWb-8qc-YAfu"
      }
    },
    {
      "cell_type": "code",
      "source": [
        "X_train = X_train.reshape(X_train.shape[0], X_train.shape[1], X_train.shape[2], 1)\n",
        "X_test = X_test.reshape(X_test.shape[0], X_test.shape[1], X_test.shape[2], 1)\n",
        "X_train.shape, X_test.shape"
      ],
      "metadata": {
        "colab": {
          "base_uri": "https://localhost:8080/"
        },
        "id": "MQtag_UjYDRK",
        "outputId": "76eb6127-634d-4ef2-b473-e836767b2b92"
      },
      "execution_count": null,
      "outputs": [
        {
          "output_type": "execute_result",
          "data": {
            "text/plain": [
              "((50000, 32, 32, 1), (10000, 32, 32, 1))"
            ]
          },
          "metadata": {},
          "execution_count": 11
        }
      ]
    },
    {
      "cell_type": "code",
      "source": [
        "(X_train.shape[1], X_train.shape[2], 1)"
      ],
      "metadata": {
        "colab": {
          "base_uri": "https://localhost:8080/"
        },
        "id": "OBOMh_9Zf5wk",
        "outputId": "a7e6a6fb-4d35-4622-b78b-7596a76e3df5"
      },
      "execution_count": null,
      "outputs": [
        {
          "output_type": "execute_result",
          "data": {
            "text/plain": [
              "(32, 32, 1)"
            ]
          },
          "metadata": {},
          "execution_count": 18
        }
      ]
    },
    {
      "cell_type": "markdown",
      "source": [
        "# Model Building"
      ],
      "metadata": {
        "id": "Eb7KNp2qU9I9"
      }
    },
    {
      "cell_type": "code",
      "source": [
        "from keras.models import Sequential, load_model\n",
        "from keras.layers import Conv2D, MaxPool2D, Flatten, Dense, Dropout,BatchNormalization"
      ],
      "metadata": {
        "id": "EVEXckjj0xSo"
      },
      "execution_count": null,
      "outputs": []
    },
    {
      "cell_type": "code",
      "source": [
        "from keras.models import Sequential, load_model\n",
        "from keras.layers import Conv2D, MaxPool2D, Flatten, Dense, Dropout,BatchNormalization\n",
        "\n",
        "model = Sequential()\n",
        "input_shape = (X_train.shape[1], X_train.shape[2], 1)\n",
        "\n",
        "# Convolutional Layer\n",
        "model.add(Conv2D(filters = 32, \n",
        "                 kernel_size = (3,3), \n",
        "                 input_shape = (32, 32, 1 ),\n",
        "                 activation = 'relu',\n",
        "                 padding='same'))\n",
        "model.add(BatchNormalization())\n",
        "\n",
        "# Pooling layer\n",
        "model.add(MaxPool2D( pool_size = (2,2)))\n",
        "\n",
        "# Dropout Layer\n",
        "model.add(Dropout(0.25))\n",
        "\n",
        "model.add(Conv2D(filters=64, kernel_size=(3, 3), activation='relu', padding='same'))\n",
        "model.add(BatchNormalization())\n",
        "\n",
        "model.add(MaxPool2D(pool_size=(2, 2)))\n",
        "model.add(Dropout(0.25))\n",
        "\n",
        "model.add(Conv2D(filters=128, kernel_size=(3, 3), activation='relu', padding='same'))\n",
        "model.add(BatchNormalization())\n",
        "\n",
        "model.add(MaxPool2D(pool_size=(2, 2)))\n",
        "model.add(Dropout(0.25))\n",
        "\n",
        "\n",
        "# Flattening \n",
        "model.add(Flatten())\n",
        "\n",
        "# Fully connected layers\n",
        "model.add(Dense(128, activation = 'relu'))\n",
        "model.add(Dense(64, activation = 'relu'))\n",
        "model.add(Dropout(0.25))\n",
        "model.add(Dense(10, activation = 'softmax'))\n",
        "\n",
        "\n",
        "\n",
        "model.compile(loss = 'categorical_crossentropy', optimizer = 'adam', metrics = 'accuracy')\n",
        "\n",
        "\n",
        "\n",
        "model.fit(X_train, y_train, epochs=12)\n",
        "model.evaluate(X_test,y_test)"
      ],
      "metadata": {
        "id": "bOtV2A1E3isd",
        "colab": {
          "base_uri": "https://localhost:8080/"
        },
        "outputId": "810f0292-5ae3-4edc-8dc4-5a16f5690628"
      },
      "execution_count": null,
      "outputs": [
        {
          "output_type": "stream",
          "name": "stdout",
          "text": [
            "Epoch 1/12\n",
            "1563/1563 [==============================] - 154s 98ms/step - loss: 1.6482 - accuracy: 0.4144\n",
            "Epoch 2/12\n",
            "1563/1563 [==============================] - 151s 97ms/step - loss: 1.2535 - accuracy: 0.5658\n",
            "Epoch 3/12\n",
            "1563/1563 [==============================] - 151s 96ms/step - loss: 1.0745 - accuracy: 0.6321\n",
            "Epoch 4/12\n",
            "1563/1563 [==============================] - 151s 97ms/step - loss: 0.9738 - accuracy: 0.6680\n",
            "Epoch 5/12\n",
            "1563/1563 [==============================] - 151s 97ms/step - loss: 0.9043 - accuracy: 0.6934\n",
            "Epoch 6/12\n",
            "1563/1563 [==============================] - 151s 96ms/step - loss: 0.8505 - accuracy: 0.7103\n",
            "Epoch 7/12\n",
            "1563/1563 [==============================] - 151s 97ms/step - loss: 0.8040 - accuracy: 0.7275\n",
            "Epoch 8/12\n",
            "1563/1563 [==============================] - 151s 97ms/step - loss: 0.7631 - accuracy: 0.7428\n",
            "Epoch 9/12\n",
            "1563/1563 [==============================] - 160s 102ms/step - loss: 0.7260 - accuracy: 0.7527\n",
            "Epoch 10/12\n",
            "1563/1563 [==============================] - 173s 111ms/step - loss: 0.6947 - accuracy: 0.7629\n",
            "Epoch 11/12\n",
            "1563/1563 [==============================] - 153s 98ms/step - loss: 0.6720 - accuracy: 0.7692\n",
            "Epoch 12/12\n",
            "1563/1563 [==============================] - 154s 98ms/step - loss: 0.6437 - accuracy: 0.7799\n",
            "313/313 [==============================] - 8s 25ms/step - loss: 0.8981 - accuracy: 0.7092\n"
          ]
        },
        {
          "output_type": "execute_result",
          "data": {
            "text/plain": [
              "[0.8980823159217834, 0.7092000246047974]"
            ]
          },
          "metadata": {},
          "execution_count": 10
        }
      ]
    },
    {
      "cell_type": "code",
      "source": [
        ""
      ],
      "metadata": {
        "id": "mSXhYI07foFc"
      },
      "execution_count": null,
      "outputs": []
    },
    {
      "cell_type": "code",
      "source": [
        "model = Sequential()\n",
        "input_shape = (X_train.shape[1], X_train.shape[2], 1)\n",
        "\n",
        "model.add(Conv2D(16, (3, 3), activation='relu', strides=(1, 1), \n",
        "    padding='same', input_shape=input_shape))\n",
        "model.add(Conv2D(32, (3, 3), activation='relu', strides=(1, 1), \n",
        "    padding='same'))\n",
        "model.add(Conv2D(64, (3, 3), activation='relu', strides=(1, 1), \n",
        "    padding='same'))\n",
        "model.add(MaxPool2D((2, 2)))\n",
        "model.add(Conv2D(16, (3, 3), activation='relu', strides=(1, 1), \n",
        "    padding='same'))\n",
        "model.add(Conv2D(32, (3, 3), activation='relu', strides=(1, 1), \n",
        "    padding='same'))\n",
        "model.add(Conv2D(64, (3, 3), activation='relu', strides=(1, 1), \n",
        "    padding='same'))\n",
        "model.add(MaxPool2D((2, 2)))\n",
        "model.add(Flatten())\n",
        "model.add(Dense(256, activation='relu'))\n",
        "model.add(Dropout(0.5))\n",
        "model.add(Dense(128, activation='relu'))\n",
        "model.add(Dense(64, activation='relu'))\n",
        "model.add(Dense(64, activation='relu'))\n",
        "model.add(Dense(10, activation='softmax'))\n",
        "\n",
        "model.compile(loss = 'categorical_crossentropy', optimizer = 'adam', metrics = 'accuracy')\n"
      ],
      "metadata": {
        "id": "lqwnPYEZk3dx"
      },
      "execution_count": null,
      "outputs": []
    },
    {
      "cell_type": "code",
      "source": [
        "model.summary()"
      ],
      "metadata": {
        "colab": {
          "base_uri": "https://localhost:8080/"
        },
        "id": "jaNMJE5UQATj",
        "outputId": "f07da2cd-9397-47ad-8a6d-d1b27b3e7894"
      },
      "execution_count": null,
      "outputs": [
        {
          "output_type": "stream",
          "name": "stdout",
          "text": [
            "Model: \"sequential_1\"\n",
            "_________________________________________________________________\n",
            " Layer (type)                Output Shape              Param #   \n",
            "=================================================================\n",
            " conv2d (Conv2D)             (None, 32, 32, 16)        160       \n",
            "                                                                 \n",
            " conv2d_1 (Conv2D)           (None, 32, 32, 32)        4640      \n",
            "                                                                 \n",
            " conv2d_2 (Conv2D)           (None, 32, 32, 64)        18496     \n",
            "                                                                 \n",
            " max_pooling2d (MaxPooling2D  (None, 16, 16, 64)       0         \n",
            " )                                                               \n",
            "                                                                 \n",
            " conv2d_3 (Conv2D)           (None, 16, 16, 16)        9232      \n",
            "                                                                 \n",
            " conv2d_4 (Conv2D)           (None, 16, 16, 32)        4640      \n",
            "                                                                 \n",
            " conv2d_5 (Conv2D)           (None, 16, 16, 64)        18496     \n",
            "                                                                 \n",
            " max_pooling2d_1 (MaxPooling  (None, 8, 8, 64)         0         \n",
            " 2D)                                                             \n",
            "                                                                 \n",
            " flatten (Flatten)           (None, 4096)              0         \n",
            "                                                                 \n",
            " dense (Dense)               (None, 256)               1048832   \n",
            "                                                                 \n",
            " dropout (Dropout)           (None, 256)               0         \n",
            "                                                                 \n",
            " dense_1 (Dense)             (None, 128)               32896     \n",
            "                                                                 \n",
            " dense_2 (Dense)             (None, 64)                8256      \n",
            "                                                                 \n",
            " dense_3 (Dense)             (None, 64)                4160      \n",
            "                                                                 \n",
            " dense_4 (Dense)             (None, 10)                650       \n",
            "                                                                 \n",
            "=================================================================\n",
            "Total params: 1,150,458\n",
            "Trainable params: 1,150,458\n",
            "Non-trainable params: 0\n",
            "_________________________________________________________________\n"
          ]
        }
      ]
    },
    {
      "cell_type": "markdown",
      "source": [
        "# Data Augmentation"
      ],
      "metadata": {
        "id": "ouNfn-tUVBBq"
      }
    },
    {
      "cell_type": "code",
      "source": [
        "from tensorflow.keras.preprocessing.image import ImageDataGenerator\n"
      ],
      "metadata": {
        "id": "Zh-NwfgYSyKj"
      },
      "execution_count": null,
      "outputs": []
    },
    {
      "cell_type": "code",
      "source": [
        "from tensorflow.keras.preprocessing.image import ImageDataGenerator\n",
        "batch_size = 32\n",
        "data_generator = ImageDataGenerator(width_shift_range=0.1, height_shift_range=0.1, horizontal_flip=True)\n",
        "train_generator = data_generator.flow(X_train, y_train, batch_size)\n",
        "steps_per_epoch = X_train.shape[0] // batch_size"
      ],
      "metadata": {
        "id": "_eXjAMGAS3si"
      },
      "execution_count": null,
      "outputs": []
    },
    {
      "cell_type": "markdown",
      "source": [
        "# Model training"
      ],
      "metadata": {
        "id": "p5i7MH2RVEtC"
      }
    },
    {
      "cell_type": "code",
      "source": [
        "from keras.callbacks import EarlyStopping\n",
        "es = EarlyStopping(monitor='val_loss', mode='min', verbose=1, patience=3)"
      ],
      "metadata": {
        "id": "s1EZtVvLgsCD"
      },
      "execution_count": null,
      "outputs": []
    },
    {
      "cell_type": "code",
      "source": [
        "r = model.fit(train_generator, \n",
        "              epochs = 50,\n",
        "              steps_per_epoch = steps_per_epoch,\n",
        "              validation_data = (X_test, y_test))"
      ],
      "metadata": {
        "colab": {
          "base_uri": "https://localhost:8080/"
        },
        "id": "xVIcE6aUTDZl",
        "outputId": "8208675f-7b35-40f1-8857-349834d524e2"
      },
      "execution_count": null,
      "outputs": [
        {
          "output_type": "stream",
          "name": "stdout",
          "text": [
            "Epoch 1/50\n",
            "1562/1562 [==============================] - 183s 116ms/step - loss: 1.8019 - accuracy: 0.3500 - val_loss: 1.7139 - val_accuracy: 0.4142\n",
            "Epoch 2/50\n",
            "1562/1562 [==============================] - 167s 107ms/step - loss: 1.4642 - accuracy: 0.4801 - val_loss: 1.6209 - val_accuracy: 0.4662\n",
            "Epoch 3/50\n",
            "1562/1562 [==============================] - 166s 106ms/step - loss: 1.3215 - accuracy: 0.5343 - val_loss: 1.2385 - val_accuracy: 0.5804\n",
            "Epoch 4/50\n",
            "1562/1562 [==============================] - 167s 107ms/step - loss: 1.2372 - accuracy: 0.5668 - val_loss: 1.2674 - val_accuracy: 0.5854\n",
            "Epoch 5/50\n",
            "1562/1562 [==============================] - 170s 109ms/step - loss: 1.1716 - accuracy: 0.5907 - val_loss: 1.0754 - val_accuracy: 0.6381\n",
            "Epoch 6/50\n",
            "1562/1562 [==============================] - 169s 108ms/step - loss: 1.1300 - accuracy: 0.6079 - val_loss: 0.9398 - val_accuracy: 0.6759\n",
            "Epoch 7/50\n",
            "1562/1562 [==============================] - 175s 112ms/step - loss: 1.0938 - accuracy: 0.6203 - val_loss: 0.9414 - val_accuracy: 0.6734\n",
            "Epoch 8/50\n",
            "1562/1562 [==============================] - 170s 109ms/step - loss: 1.0709 - accuracy: 0.6309 - val_loss: 0.9010 - val_accuracy: 0.6909\n",
            "Epoch 9/50\n",
            "1562/1562 [==============================] - 170s 109ms/step - loss: 1.0326 - accuracy: 0.6426 - val_loss: 1.0529 - val_accuracy: 0.6530\n",
            "Epoch 10/50\n",
            "1562/1562 [==============================] - 169s 108ms/step - loss: 1.0187 - accuracy: 0.6487 - val_loss: 0.9758 - val_accuracy: 0.6730\n",
            "Epoch 11/50\n",
            "1562/1562 [==============================] - 168s 107ms/step - loss: 1.0023 - accuracy: 0.6524 - val_loss: 0.8653 - val_accuracy: 0.7070\n",
            "Epoch 12/50\n",
            "1562/1562 [==============================] - 169s 108ms/step - loss: 0.9706 - accuracy: 0.6656 - val_loss: 1.0740 - val_accuracy: 0.6518\n",
            "Epoch 13/50\n",
            "1562/1562 [==============================] - 169s 108ms/step - loss: 0.9567 - accuracy: 0.6712 - val_loss: 1.3753 - val_accuracy: 0.5735\n",
            "Epoch 14/50\n",
            "1562/1562 [==============================] - 169s 108ms/step - loss: 0.9408 - accuracy: 0.6747 - val_loss: 1.1564 - val_accuracy: 0.6180\n",
            "Epoch 15/50\n",
            "1562/1562 [==============================] - 169s 108ms/step - loss: 0.9351 - accuracy: 0.6778 - val_loss: 1.1270 - val_accuracy: 0.6290\n",
            "Epoch 16/50\n",
            "1562/1562 [==============================] - 171s 109ms/step - loss: 0.9191 - accuracy: 0.6854 - val_loss: 0.8152 - val_accuracy: 0.7207\n",
            "Epoch 17/50\n",
            "1562/1562 [==============================] - 172s 110ms/step - loss: 0.9034 - accuracy: 0.6901 - val_loss: 1.0465 - val_accuracy: 0.6671\n",
            "Epoch 18/50\n",
            "1562/1562 [==============================] - 170s 109ms/step - loss: 0.8881 - accuracy: 0.6944 - val_loss: 0.8655 - val_accuracy: 0.7087\n",
            "Epoch 19/50\n",
            "1562/1562 [==============================] - 173s 111ms/step - loss: 0.8816 - accuracy: 0.6954 - val_loss: 0.7134 - val_accuracy: 0.7617\n",
            "Epoch 20/50\n",
            "1562/1562 [==============================] - 169s 108ms/step - loss: 0.8735 - accuracy: 0.6981 - val_loss: 0.7683 - val_accuracy: 0.7372\n",
            "Epoch 21/50\n",
            "1562/1562 [==============================] - 169s 108ms/step - loss: 0.8633 - accuracy: 0.7032 - val_loss: 0.9991 - val_accuracy: 0.6709\n",
            "Epoch 22/50\n",
            "1562/1562 [==============================] - 169s 108ms/step - loss: 0.8554 - accuracy: 0.7058 - val_loss: 0.8777 - val_accuracy: 0.7157\n",
            "Epoch 23/50\n",
            "1562/1562 [==============================] - 167s 107ms/step - loss: 0.8457 - accuracy: 0.7087 - val_loss: 0.7406 - val_accuracy: 0.7478\n",
            "Epoch 24/50\n",
            "1562/1562 [==============================] - 169s 108ms/step - loss: 0.8395 - accuracy: 0.7097 - val_loss: 0.6877 - val_accuracy: 0.7674\n",
            "Epoch 25/50\n",
            "1562/1562 [==============================] - 168s 108ms/step - loss: 0.8261 - accuracy: 0.7179 - val_loss: 0.9527 - val_accuracy: 0.6921\n",
            "Epoch 26/50\n",
            "1562/1562 [==============================] - 168s 108ms/step - loss: 0.8207 - accuracy: 0.7156 - val_loss: 0.8399 - val_accuracy: 0.7241\n",
            "Epoch 27/50\n",
            "1562/1562 [==============================] - 170s 109ms/step - loss: 0.8194 - accuracy: 0.7190 - val_loss: 0.7447 - val_accuracy: 0.7506\n",
            "Epoch 28/50\n",
            "1562/1562 [==============================] - 170s 109ms/step - loss: 0.8081 - accuracy: 0.7216 - val_loss: 0.7190 - val_accuracy: 0.7649\n",
            "Epoch 29/50\n",
            "1562/1562 [==============================] - 169s 108ms/step - loss: 0.8023 - accuracy: 0.7247 - val_loss: 0.8385 - val_accuracy: 0.7293\n",
            "Epoch 30/50\n",
            "1562/1562 [==============================] - 172s 110ms/step - loss: 0.7922 - accuracy: 0.7261 - val_loss: 0.7038 - val_accuracy: 0.7610\n",
            "Epoch 31/50\n",
            "1562/1562 [==============================] - 176s 113ms/step - loss: 0.7923 - accuracy: 0.7259 - val_loss: 0.7629 - val_accuracy: 0.7467\n",
            "Epoch 32/50\n",
            "1562/1562 [==============================] - 174s 112ms/step - loss: 0.7901 - accuracy: 0.7299 - val_loss: 0.6451 - val_accuracy: 0.7779\n",
            "Epoch 33/50\n",
            "1562/1562 [==============================] - 174s 111ms/step - loss: 0.7779 - accuracy: 0.7329 - val_loss: 0.7615 - val_accuracy: 0.7501\n",
            "Epoch 34/50\n",
            "1562/1562 [==============================] - 172s 110ms/step - loss: 0.7735 - accuracy: 0.7339 - val_loss: 1.1482 - val_accuracy: 0.6467\n",
            "Epoch 35/50\n",
            "1562/1562 [==============================] - 172s 110ms/step - loss: 0.7721 - accuracy: 0.7358 - val_loss: 0.7078 - val_accuracy: 0.7591\n",
            "Epoch 36/50\n",
            "1562/1562 [==============================] - 172s 110ms/step - loss: 0.7741 - accuracy: 0.7354 - val_loss: 0.6872 - val_accuracy: 0.7695\n",
            "Epoch 37/50\n",
            "1562/1562 [==============================] - 171s 110ms/step - loss: 0.7677 - accuracy: 0.7351 - val_loss: 0.8557 - val_accuracy: 0.7165\n",
            "Epoch 38/50\n",
            "1562/1562 [==============================] - 169s 108ms/step - loss: 0.7589 - accuracy: 0.7408 - val_loss: 0.7258 - val_accuracy: 0.7624\n",
            "Epoch 39/50\n",
            "1562/1562 [==============================] - 170s 109ms/step - loss: 0.7600 - accuracy: 0.7383 - val_loss: 0.7051 - val_accuracy: 0.7637\n",
            "Epoch 40/50\n",
            "1562/1562 [==============================] - 168s 107ms/step - loss: 0.7564 - accuracy: 0.7383 - val_loss: 0.7262 - val_accuracy: 0.7529\n",
            "Epoch 41/50\n",
            "1562/1562 [==============================] - 167s 107ms/step - loss: 0.7452 - accuracy: 0.7438 - val_loss: 0.7911 - val_accuracy: 0.7403\n",
            "Epoch 42/50\n",
            "1562/1562 [==============================] - 167s 107ms/step - loss: 0.7449 - accuracy: 0.7441 - val_loss: 0.6203 - val_accuracy: 0.7883\n",
            "Epoch 43/50\n",
            "1562/1562 [==============================] - 170s 109ms/step - loss: 0.7421 - accuracy: 0.7433 - val_loss: 0.7097 - val_accuracy: 0.7587\n",
            "Epoch 44/50\n",
            "1562/1562 [==============================] - 169s 108ms/step - loss: 0.7384 - accuracy: 0.7464 - val_loss: 0.6129 - val_accuracy: 0.7918\n",
            "Epoch 45/50\n",
            "1562/1562 [==============================] - 168s 107ms/step - loss: 0.7422 - accuracy: 0.7450 - val_loss: 0.6565 - val_accuracy: 0.7839\n",
            "Epoch 46/50\n",
            "1562/1562 [==============================] - 167s 107ms/step - loss: 0.7392 - accuracy: 0.7486 - val_loss: 0.6253 - val_accuracy: 0.7871\n",
            "Epoch 47/50\n",
            "1562/1562 [==============================] - 166s 106ms/step - loss: 0.7327 - accuracy: 0.7488 - val_loss: 0.6997 - val_accuracy: 0.7648\n",
            "Epoch 48/50\n",
            "1562/1562 [==============================] - 166s 106ms/step - loss: 0.7258 - accuracy: 0.7494 - val_loss: 0.6325 - val_accuracy: 0.7914\n",
            "Epoch 49/50\n",
            "1562/1562 [==============================] - 166s 106ms/step - loss: 0.7341 - accuracy: 0.7460 - val_loss: 0.6032 - val_accuracy: 0.7950\n",
            "Epoch 50/50\n",
            "1562/1562 [==============================] - 166s 106ms/step - loss: 0.7277 - accuracy: 0.7496 - val_loss: 0.6668 - val_accuracy: 0.7785\n"
          ]
        }
      ]
    },
    {
      "cell_type": "code",
      "source": [
        "r = model.fit(train_generator, \n",
        "              epochs = 50,\n",
        "              steps_per_epoch = steps_per_epoch,\n",
        "              validation_data = (X_test, y_test),\n",
        "              callbacks = [es]) #2nd"
      ],
      "metadata": {
        "colab": {
          "base_uri": "https://localhost:8080/"
        },
        "id": "cT0KJ-HJS1Zq",
        "outputId": "3396ba2a-ef29-404d-8b64-2747282f7e79"
      },
      "execution_count": null,
      "outputs": [
        {
          "output_type": "stream",
          "name": "stdout",
          "text": [
            "Epoch 1/50\n",
            "1562/1562 [==============================] - 405s 259ms/step - loss: 1.9511 - accuracy: 0.2668 - val_loss: 1.6122 - val_accuracy: 0.4074\n",
            "Epoch 2/50\n",
            "1562/1562 [==============================] - 397s 254ms/step - loss: 1.5472 - accuracy: 0.4376 - val_loss: 1.3320 - val_accuracy: 0.5173\n",
            "Epoch 3/50\n",
            "1562/1562 [==============================] - 399s 255ms/step - loss: 1.3530 - accuracy: 0.5183 - val_loss: 1.1957 - val_accuracy: 0.5780\n",
            "Epoch 4/50\n",
            "1562/1562 [==============================] - 396s 253ms/step - loss: 1.2341 - accuracy: 0.5664 - val_loss: 1.1132 - val_accuracy: 0.6085\n",
            "Epoch 5/50\n",
            "1562/1562 [==============================] - 391s 251ms/step - loss: 1.1608 - accuracy: 0.5934 - val_loss: 0.9898 - val_accuracy: 0.6513\n",
            "Epoch 6/50\n",
            "1562/1562 [==============================] - 397s 254ms/step - loss: 1.1041 - accuracy: 0.6153 - val_loss: 0.9746 - val_accuracy: 0.6559\n",
            "Epoch 7/50\n",
            "1562/1562 [==============================] - 397s 254ms/step - loss: 1.0684 - accuracy: 0.6266 - val_loss: 0.9651 - val_accuracy: 0.6711\n",
            "Epoch 8/50\n",
            "1562/1562 [==============================] - 405s 259ms/step - loss: 1.0330 - accuracy: 0.6396 - val_loss: 0.9186 - val_accuracy: 0.6830\n",
            "Epoch 9/50\n",
            "1562/1562 [==============================] - 404s 259ms/step - loss: 1.0171 - accuracy: 0.6481 - val_loss: 0.9237 - val_accuracy: 0.6751\n",
            "Epoch 10/50\n",
            "1562/1562 [==============================] - 404s 259ms/step - loss: 0.9901 - accuracy: 0.6570 - val_loss: 0.8735 - val_accuracy: 0.6988\n",
            "Epoch 11/50\n",
            "1562/1562 [==============================] - 408s 262ms/step - loss: 0.9771 - accuracy: 0.6624 - val_loss: 0.8407 - val_accuracy: 0.7123\n",
            "Epoch 12/50\n",
            "1562/1562 [==============================] - 407s 261ms/step - loss: 0.9515 - accuracy: 0.6713 - val_loss: 0.8952 - val_accuracy: 0.6914\n",
            "Epoch 13/50\n",
            "1562/1562 [==============================] - 383s 245ms/step - loss: 0.9368 - accuracy: 0.6770 - val_loss: 0.8470 - val_accuracy: 0.7115\n",
            "Epoch 14/50\n",
            "1562/1562 [==============================] - 395s 253ms/step - loss: 0.9258 - accuracy: 0.6809 - val_loss: 0.8049 - val_accuracy: 0.7210\n",
            "Epoch 15/50\n",
            "1562/1562 [==============================] - 367s 235ms/step - loss: 0.9179 - accuracy: 0.6836 - val_loss: 0.8612 - val_accuracy: 0.6999\n",
            "Epoch 16/50\n",
            "1562/1562 [==============================] - 366s 235ms/step - loss: 0.9006 - accuracy: 0.6900 - val_loss: 0.8070 - val_accuracy: 0.7294\n",
            "Epoch 17/50\n",
            "1562/1562 [==============================] - 363s 232ms/step - loss: 0.8874 - accuracy: 0.6949 - val_loss: 0.8055 - val_accuracy: 0.7281\n",
            "Epoch 17: early stopping\n"
          ]
        }
      ]
    },
    {
      "cell_type": "markdown",
      "source": [
        "#Model Evaluation"
      ],
      "metadata": {
        "id": "TYixS-kQVJM8"
      }
    },
    {
      "cell_type": "code",
      "source": [
        "prediction = model.evaluate(X_test, y_test)\n",
        "print(f'Test Accuracy : {prediction[1] * 100:.2f}%')\n"
      ],
      "metadata": {
        "colab": {
          "base_uri": "https://localhost:8080/"
        },
        "id": "LZg8S77vQAQb",
        "outputId": "31dcff68-cec0-43a0-d7d8-99a150716580"
      },
      "execution_count": null,
      "outputs": [
        {
          "output_type": "stream",
          "name": "stdout",
          "text": [
            "313/313 [==============================] - 7s 24ms/step - loss: 0.6668 - accuracy: 0.7785\n",
            "Test Accuracy : 77.85%\n"
          ]
        }
      ]
    },
    {
      "cell_type": "code",
      "source": [
        "prediction = model.evaluate(X_test, y_test)\n",
        "print(f'Test Accuracy : {prediction[1] * 100:.2f}%')"
      ],
      "metadata": {
        "colab": {
          "base_uri": "https://localhost:8080/"
        },
        "id": "mAHyYNFt2mbf",
        "outputId": "304887c7-7d1e-4af3-c54b-ad158f995d46"
      },
      "execution_count": null,
      "outputs": [
        {
          "output_type": "stream",
          "name": "stdout",
          "text": [
            "313/313 [==============================] - 17s 55ms/step - loss: 0.8055 - accuracy: 0.7281\n",
            "Test Accuracy : 72.81%\n"
          ]
        }
      ]
    },
    {
      "cell_type": "code",
      "source": [
        "from sklearn.metrics import confusion_matrix\n",
        "\n",
        "y_pred = model.predict(X_test)\n",
        "y_pred = np.argmax(y_pred, axis=1)\n",
        "cm = confusion_matrix(y_test, y_pred)"
      ],
      "metadata": {
        "colab": {
          "base_uri": "https://localhost:8080/",
          "height": 346
        },
        "id": "knYtCo3TTcWy",
        "outputId": "85c7a5c4-d52c-4d3c-9e3f-fb163a27eb40"
      },
      "execution_count": null,
      "outputs": [
        {
          "output_type": "error",
          "ename": "ValueError",
          "evalue": "ignored",
          "traceback": [
            "\u001b[0;31m---------------------------------------------------------------------------\u001b[0m",
            "\u001b[0;31mValueError\u001b[0m                                Traceback (most recent call last)",
            "\u001b[0;32m<ipython-input-27-55fc7fb9bbf0>\u001b[0m in \u001b[0;36m<module>\u001b[0;34m()\u001b[0m\n\u001b[1;32m      3\u001b[0m \u001b[0my_pred\u001b[0m \u001b[0;34m=\u001b[0m \u001b[0mmodel\u001b[0m\u001b[0;34m.\u001b[0m\u001b[0mpredict\u001b[0m\u001b[0;34m(\u001b[0m\u001b[0mX_test\u001b[0m\u001b[0;34m)\u001b[0m\u001b[0;34m\u001b[0m\u001b[0;34m\u001b[0m\u001b[0m\n\u001b[1;32m      4\u001b[0m \u001b[0my_pred\u001b[0m \u001b[0;34m=\u001b[0m \u001b[0mnp\u001b[0m\u001b[0;34m.\u001b[0m\u001b[0margmax\u001b[0m\u001b[0;34m(\u001b[0m\u001b[0my_pred\u001b[0m\u001b[0;34m,\u001b[0m \u001b[0maxis\u001b[0m\u001b[0;34m=\u001b[0m\u001b[0;36m1\u001b[0m\u001b[0;34m)\u001b[0m\u001b[0;34m\u001b[0m\u001b[0;34m\u001b[0m\u001b[0m\n\u001b[0;32m----> 5\u001b[0;31m \u001b[0mcm\u001b[0m \u001b[0;34m=\u001b[0m \u001b[0mconfusion_matrix\u001b[0m\u001b[0;34m(\u001b[0m\u001b[0my_test\u001b[0m\u001b[0;34m,\u001b[0m \u001b[0my_pred\u001b[0m\u001b[0;34m)\u001b[0m\u001b[0;34m\u001b[0m\u001b[0;34m\u001b[0m\u001b[0m\n\u001b[0m",
            "\u001b[0;32m/usr/local/lib/python3.7/dist-packages/sklearn/metrics/_classification.py\u001b[0m in \u001b[0;36mconfusion_matrix\u001b[0;34m(y_true, y_pred, labels, sample_weight, normalize)\u001b[0m\n\u001b[1;32m    305\u001b[0m     \u001b[0;34m(\u001b[0m\u001b[0;36m0\u001b[0m\u001b[0;34m,\u001b[0m \u001b[0;36m2\u001b[0m\u001b[0;34m,\u001b[0m \u001b[0;36m1\u001b[0m\u001b[0;34m,\u001b[0m \u001b[0;36m1\u001b[0m\u001b[0;34m)\u001b[0m\u001b[0;34m\u001b[0m\u001b[0;34m\u001b[0m\u001b[0m\n\u001b[1;32m    306\u001b[0m     \"\"\"\n\u001b[0;32m--> 307\u001b[0;31m     \u001b[0my_type\u001b[0m\u001b[0;34m,\u001b[0m \u001b[0my_true\u001b[0m\u001b[0;34m,\u001b[0m \u001b[0my_pred\u001b[0m \u001b[0;34m=\u001b[0m \u001b[0m_check_targets\u001b[0m\u001b[0;34m(\u001b[0m\u001b[0my_true\u001b[0m\u001b[0;34m,\u001b[0m \u001b[0my_pred\u001b[0m\u001b[0;34m)\u001b[0m\u001b[0;34m\u001b[0m\u001b[0;34m\u001b[0m\u001b[0m\n\u001b[0m\u001b[1;32m    308\u001b[0m     \u001b[0;32mif\u001b[0m \u001b[0my_type\u001b[0m \u001b[0;32mnot\u001b[0m \u001b[0;32min\u001b[0m \u001b[0;34m(\u001b[0m\u001b[0;34m\"binary\"\u001b[0m\u001b[0;34m,\u001b[0m \u001b[0;34m\"multiclass\"\u001b[0m\u001b[0;34m)\u001b[0m\u001b[0;34m:\u001b[0m\u001b[0;34m\u001b[0m\u001b[0;34m\u001b[0m\u001b[0m\n\u001b[1;32m    309\u001b[0m         \u001b[0;32mraise\u001b[0m \u001b[0mValueError\u001b[0m\u001b[0;34m(\u001b[0m\u001b[0;34m\"%s is not supported\"\u001b[0m \u001b[0;34m%\u001b[0m \u001b[0my_type\u001b[0m\u001b[0;34m)\u001b[0m\u001b[0;34m\u001b[0m\u001b[0;34m\u001b[0m\u001b[0m\n",
            "\u001b[0;32m/usr/local/lib/python3.7/dist-packages/sklearn/metrics/_classification.py\u001b[0m in \u001b[0;36m_check_targets\u001b[0;34m(y_true, y_pred)\u001b[0m\n\u001b[1;32m     93\u001b[0m         raise ValueError(\n\u001b[1;32m     94\u001b[0m             \"Classification metrics can't handle a mix of {0} and {1} targets\".format(\n\u001b[0;32m---> 95\u001b[0;31m                 \u001b[0mtype_true\u001b[0m\u001b[0;34m,\u001b[0m \u001b[0mtype_pred\u001b[0m\u001b[0;34m\u001b[0m\u001b[0;34m\u001b[0m\u001b[0m\n\u001b[0m\u001b[1;32m     96\u001b[0m             )\n\u001b[1;32m     97\u001b[0m         )\n",
            "\u001b[0;31mValueError\u001b[0m: Classification metrics can't handle a mix of multilabel-indicator and multiclass targets"
          ]
        }
      ]
    },
    {
      "cell_type": "code",
      "source": [
        "from sklearn.metrics import ConfusionMatrixDisplay\n",
        "\n",
        "disp = ConfusionMatrixDisplay(confusion_matrix=cm,\n",
        "                              display_labels=labels)\n",
        "\n",
        "\n",
        "fig, ax = plt.subplots(figsize=(10, 10))\n",
        "disp = disp.plot(xticks_rotation='vertical', ax=ax, cmap='blues')"
      ],
      "metadata": {
        "id": "vT4pYbDkQALN"
      },
      "execution_count": null,
      "outputs": []
    },
    {
      "cell_type": "code",
      "source": [
        "from sklearn.metrics import classification_report\n",
        "\n",
        "print(classification_report(y_test, y_pred))"
      ],
      "metadata": {
        "id": "ykdjVdS_QAIZ"
      },
      "execution_count": null,
      "outputs": []
    },
    {
      "cell_type": "markdown",
      "source": [
        "# Saving model"
      ],
      "metadata": {
        "id": "dPzi3C25VPHE"
      }
    },
    {
      "cell_type": "code",
      "source": [
        "from tensorflow.keras.models import load_model\n",
        "\n",
        "model.save('Cifar-10 CNN.h5')"
      ],
      "metadata": {
        "id": "1VOly48EQAGB"
      },
      "execution_count": null,
      "outputs": []
    },
    {
      "cell_type": "code",
      "source": [
        ""
      ],
      "metadata": {
        "id": "sg1fxJuDQADJ"
      },
      "execution_count": null,
      "outputs": []
    },
    {
      "cell_type": "code",
      "source": [
        ""
      ],
      "metadata": {
        "id": "KOTUN3cBQAAk"
      },
      "execution_count": null,
      "outputs": []
    },
    {
      "cell_type": "code",
      "source": [
        ""
      ],
      "metadata": {
        "id": "2WBbQIqc3tKU"
      },
      "execution_count": null,
      "outputs": []
    },
    {
      "cell_type": "code",
      "source": [
        "import cv2\n",
        "import numpy as np\n",
        "import matplotlib.pyplot as plt\n",
        "import seaborn as sns; sns.set()\n",
        "from keras.datasets import cifar10\n",
        "from sklearn.preprocessing import OneHotEncoder\n",
        "from sklearn.metrics import confusion_matrix\n",
        "from tensorflow.keras import datasets, layers, models\n",
        "from keras.layers import Conv2D, MaxPool2D, Flatten, Dense, Dropout\n",
        "from keras.models import Sequential, load_model\n",
        "from keras.callbacks import EarlyStopping\n",
        "\n",
        "\n",
        "# Loading data\n",
        "(X_train, y_train), (X_test, y_test) = cifar10.load_data()\n",
        "\n",
        "labels = ['airplane', 'automobile', 'bird', 'cat', 'deer', 'dog', 'frog', 'horse', 'ship', 'truck']\n",
        "y_train = y_train.reshape(-1,)\n",
        "y_test = y_test.reshape(-1,)\n",
        "X_train = X_train / 255.0\n",
        "X_test = X_test / 255.0\n",
        "\n",
        "cnn = models.Sequential([\n",
        "    layers.Conv2D(filters=32, kernel_size=(3, 3), activation='relu', input_shape=(32, 32, 3)),\n",
        "    layers.MaxPooling2D((2, 2)),\n",
        "    \n",
        "    layers.Conv2D(filters=64, kernel_size=(3, 3), activation='relu'),\n",
        "    layers.MaxPooling2D((2, 2)),\n",
        "    \n",
        "    layers.Flatten(),\n",
        "    layers.Dense(64, activation='relu'),\n",
        "    layers.Dense(10, activation='softmax')\n",
        "])\n",
        "\n",
        "cnn.compile(optimizer='adam',\n",
        "              loss='sparse_categorical_crossentropy',\n",
        "              metrics=['accuracy'])\n",
        "cnn.fit(X_train, y_train, epochs=15)\n",
        "cnn.evaluate(X_test,y_test)"
      ],
      "metadata": {
        "colab": {
          "base_uri": "https://localhost:8080/"
        },
        "id": "e8CT5HJU3tHh",
        "outputId": "8b06664f-2ba8-432b-e907-c7ca82cdcf72"
      },
      "execution_count": null,
      "outputs": [
        {
          "output_type": "stream",
          "name": "stdout",
          "text": [
            "Epoch 1/15\n",
            "1563/1563 [==============================] - 62s 40ms/step - loss: 1.4425 - accuracy: 0.4781\n",
            "Epoch 2/15\n",
            "1563/1563 [==============================] - 62s 40ms/step - loss: 1.1065 - accuracy: 0.6123\n",
            "Epoch 3/15\n",
            "1563/1563 [==============================] - 61s 39ms/step - loss: 0.9827 - accuracy: 0.6589\n",
            "Epoch 4/15\n",
            "1563/1563 [==============================] - 61s 39ms/step - loss: 0.8926 - accuracy: 0.6915\n",
            "Epoch 5/15\n",
            "1563/1563 [==============================] - 60s 39ms/step - loss: 0.8253 - accuracy: 0.7146\n",
            "Epoch 6/15\n",
            "1563/1563 [==============================] - 60s 39ms/step - loss: 0.7668 - accuracy: 0.7327\n",
            "Epoch 7/15\n",
            "1563/1563 [==============================] - 63s 40ms/step - loss: 0.7194 - accuracy: 0.7505\n",
            "Epoch 8/15\n",
            "1563/1563 [==============================] - 77s 49ms/step - loss: 0.6702 - accuracy: 0.7659\n",
            "Epoch 9/15\n",
            "1563/1563 [==============================] - 60s 39ms/step - loss: 0.6303 - accuracy: 0.7790\n",
            "Epoch 10/15\n",
            "1563/1563 [==============================] - 61s 39ms/step - loss: 0.5929 - accuracy: 0.7930\n",
            "Epoch 11/15\n",
            "1563/1563 [==============================] - 61s 39ms/step - loss: 0.5552 - accuracy: 0.8050\n",
            "Epoch 12/15\n",
            "1563/1563 [==============================] - 61s 39ms/step - loss: 0.5240 - accuracy: 0.8155\n",
            "Epoch 13/15\n",
            "1563/1563 [==============================] - 60s 39ms/step - loss: 0.4848 - accuracy: 0.8294\n",
            "Epoch 14/15\n",
            "1563/1563 [==============================] - 61s 39ms/step - loss: 0.4566 - accuracy: 0.8387\n",
            "Epoch 15/15\n",
            "1563/1563 [==============================] - 60s 39ms/step - loss: 0.4227 - accuracy: 0.8518\n",
            "313/313 [==============================] - 4s 12ms/step - loss: 1.0678 - accuracy: 0.6900\n"
          ]
        },
        {
          "output_type": "execute_result",
          "data": {
            "text/plain": [
              "[1.067828893661499, 0.6899999976158142]"
            ]
          },
          "metadata": {},
          "execution_count": 23
        }
      ]
    },
    {
      "cell_type": "code",
      "source": [
        "prediction = cnn.evaluate(X_test, y_test)\n",
        "print(f'Test Accuracy : {prediction[1] * 100:.2f}%')"
      ],
      "metadata": {
        "colab": {
          "base_uri": "https://localhost:8080/"
        },
        "id": "tAtu-2kq8gMw",
        "outputId": "bffdadf8-c017-43fd-d7d9-0bf2ec0ba982"
      },
      "execution_count": null,
      "outputs": [
        {
          "output_type": "stream",
          "name": "stdout",
          "text": [
            "313/313 [==============================] - 4s 12ms/step - loss: 1.0678 - accuracy: 0.6900\n",
            "Test Accuracy : 69.00%\n"
          ]
        }
      ]
    },
    {
      "cell_type": "markdown",
      "source": [
        "# current"
      ],
      "metadata": {
        "id": "pvgJfqliYldM"
      }
    },
    {
      "cell_type": "code",
      "source": [
        "import cv2\n",
        "import numpy as np\n",
        "import matplotlib.pyplot as plt\n",
        "import seaborn as sns; sns.set()\n",
        "from keras.datasets import cifar10\n",
        "import tensorflow as tf\n",
        "from sklearn.preprocessing import OneHotEncoder\n",
        "from sklearn.metrics import confusion_matrix\n",
        "from tensorflow.keras import datasets, layers, models\n",
        "from keras.layers import Conv2D, MaxPool2D, Flatten, Dense, Dropout\n",
        "from keras.models import Sequential, load_model\n",
        "from keras.callbacks import EarlyStopping\n",
        "import cv2\n",
        "\n",
        "# Loading data\n",
        "(X_train, y_train), (X_test, y_test) = cifar10.load_data()\n",
        "\n",
        "labels = ['airplane', 'automobile', 'bird', 'cat', 'deer', 'dog', 'frog', 'horse', 'ship', 'truck']\n",
        "\n",
        "# y_train = y_train.reshape(-1,)\n",
        "# y_test = y_test.reshape(-1,)\n",
        "\n",
        "y_train = tf.keras.utils.to_categorical(y_train, 10)\n",
        "y_test = tf.keras.utils.to_categorical(y_test, 10)\n",
        "print(y_train[0])\n",
        "\n",
        "X_train = np.array([cv2.cvtColor(image, cv2.COLOR_BGR2GRAY) for image in X_train])\n",
        "X_test = np.array([cv2.cvtColor(image, cv2.COLOR_BGR2GRAY) for image in X_test])\n",
        "\n",
        "\n",
        "X_train = X_train / 255.0\n",
        "X_test = X_test / 255.0\n",
        "\n",
        "X_train = X_train.reshape(X_train.shape[0], X_train.shape[1], X_train.shape[2], 1)\n",
        "X_test = X_test.reshape(X_test.shape[0], X_test.shape[1], X_test.shape[2], 1)\n",
        "\n",
        "\n",
        "cnn_mod = models.Sequential([\n",
        "    layers.Conv2D(filters=16, kernel_size=(3, 3), activation='relu', input_shape=(32, 32, 1), padding = 'same'),\n",
        "    layers.BatchNormalization(),\n",
        "    layers.MaxPooling2D((2, 2)),                         \n",
        "\n",
        "    layers.Conv2D(filters=32, kernel_size=(3, 3), activation='relu', padding = 'same'),\n",
        "    layers.BatchNormalization(),\n",
        "    layers.MaxPooling2D((2, 2)),\n",
        "    \n",
        "    layers.Conv2D(filters=64, kernel_size=(3, 3), activation='relu', padding = 'same'),\n",
        "    layers.BatchNormalization(),\n",
        "    layers.MaxPooling2D((2, 2)),\n",
        "    \n",
        "    layers.Conv2D(filters=64, kernel_size=(3, 3), activation='relu', padding = 'same'),\n",
        "    layers.BatchNormalization(),\n",
        "    layers.MaxPooling2D((2, 2)),\n",
        "\n",
        "    layers.Flatten(),\n",
        "    layers.Dense(256, activation='relu'),\n",
        "    layers.Dropout(0.5),\n",
        "    layers.Dense(128, activation='relu'),\n",
        "    layers.Dense(64, activation='relu'),\n",
        "    layers.Dense(64, activation='relu'),\n",
        "    layers.Dense(10, activation='softmax')\n",
        "])\n",
        "\n",
        "cnn_mod.compile(optimizer='adam',\n",
        "              loss='categorical_crossentropy',\n",
        "              metrics=['accuracy'])\n",
        "cnn_mod.fit(X_train, y_train, epochs=15)\n",
        "cnn_mod.evaluate(X_test,y_test)"
      ],
      "metadata": {
        "colab": {
          "base_uri": "https://localhost:8080/"
        },
        "id": "MMKuPfbE3tEs",
        "outputId": "07ff65fa-8545-4d6d-9b27-c8c0935aeccd"
      },
      "execution_count": null,
      "outputs": [
        {
          "output_type": "stream",
          "name": "stdout",
          "text": [
            "[0. 0. 0. 0. 0. 0. 1. 0. 0. 0.]\n",
            "Epoch 1/15\n",
            "1563/1563 [==============================] - 82s 52ms/step - loss: 1.5214 - accuracy: 0.4482\n",
            "Epoch 2/15\n",
            "1563/1563 [==============================] - 80s 51ms/step - loss: 1.1378 - accuracy: 0.6017\n",
            "Epoch 3/15\n",
            "1563/1563 [==============================] - 81s 52ms/step - loss: 0.9840 - accuracy: 0.6597\n",
            "Epoch 4/15\n",
            "1563/1563 [==============================] - 81s 52ms/step - loss: 0.8865 - accuracy: 0.6946\n",
            "Epoch 5/15\n",
            "1563/1563 [==============================] - 81s 52ms/step - loss: 0.8159 - accuracy: 0.7210\n",
            "Epoch 6/15\n",
            "1563/1563 [==============================] - 82s 53ms/step - loss: 0.7552 - accuracy: 0.7420\n",
            "Epoch 7/15\n",
            "1563/1563 [==============================] - 84s 53ms/step - loss: 0.7048 - accuracy: 0.7592\n",
            "Epoch 8/15\n",
            "1563/1563 [==============================] - 82s 53ms/step - loss: 0.6655 - accuracy: 0.7746\n",
            "Epoch 9/15\n",
            "1563/1563 [==============================] - 83s 53ms/step - loss: 0.6284 - accuracy: 0.7872\n",
            "Epoch 10/15\n",
            "1563/1563 [==============================] - 83s 53ms/step - loss: 0.5930 - accuracy: 0.7980\n",
            "Epoch 11/15\n",
            "1563/1563 [==============================] - 83s 53ms/step - loss: 0.5701 - accuracy: 0.8068\n",
            "Epoch 12/15\n",
            "1563/1563 [==============================] - 83s 53ms/step - loss: 0.5408 - accuracy: 0.8134\n",
            "Epoch 13/15\n",
            "1563/1563 [==============================] - 83s 53ms/step - loss: 0.5184 - accuracy: 0.8214\n",
            "Epoch 14/15\n",
            "1563/1563 [==============================] - 84s 54ms/step - loss: 0.4920 - accuracy: 0.8317\n",
            "Epoch 15/15\n",
            "1563/1563 [==============================] - 84s 54ms/step - loss: 0.4725 - accuracy: 0.8364\n",
            "313/313 [==============================] - 5s 15ms/step - loss: 1.1323 - accuracy: 0.6612\n"
          ]
        },
        {
          "output_type": "execute_result",
          "data": {
            "text/plain": [
              "[1.1323459148406982, 0.6611999869346619]"
            ]
          },
          "metadata": {},
          "execution_count": 8
        }
      ]
    },
    {
      "cell_type": "markdown",
      "source": [
        "# Coloured"
      ],
      "metadata": {
        "id": "tIOPaf0Wk94m"
      }
    },
    {
      "cell_type": "code",
      "source": [
        "from keras.models import Sequential, load_model\n",
        "from keras.layers import Conv2D, MaxPool2D, Flatten, Dense, Dropout,BatchNormalization\n",
        "import cv2\n",
        "import numpy as np\n",
        "import matplotlib.pyplot as plt\n",
        "import seaborn as sns; sns.set()\n",
        "from keras.datasets import cifar10\n",
        "import tensorflow as tf\n",
        "from sklearn.preprocessing import OneHotEncoder\n",
        "from sklearn.metrics import confusion_matrix\n",
        "from tensorflow.keras import datasets, layers, models\n",
        "from keras.layers import Conv2D, MaxPool2D, Flatten, Dense, Dropout\n",
        "from keras.models import Sequential, load_model\n",
        "\n",
        "\n",
        "# Loading data\n",
        "(X_train, y_train), (X_test, y_test) = cifar10.load_data()\n",
        "\n",
        "labels = ['airplane', 'automobile', 'bird', 'cat', 'deer', 'dog', 'frog', 'horse', 'ship', 'truck']\n",
        "\n",
        "# y_train = y_train.reshape(-1,)\n",
        "# y_test = y_test.reshape(-1,)\n",
        "\n",
        "y_train = tf.keras.utils.to_categorical(y_train, 10)\n",
        "y_test = tf.keras.utils.to_categorical(y_test, 10)\n",
        "print(y_train[0])\n",
        "\n",
        "# X_train = np.array([cv2.cvtColor(image, cv2.COLOR_BGR2GRAY) for image in X_train])\n",
        "# X_test = np.array([cv2.cvtColor(image, cv2.COLOR_BGR2GRAY) for image in X_test])\n",
        "\n",
        "\n",
        "X_train = X_train / 255.0\n",
        "X_test = X_test / 255.0\n",
        "\n",
        "# X_train = X_train.reshape(X_train.shape[0], X_train.shape[1], X_train.shape[2], 1)  # only required when using grayscale images\n",
        "# X_test = X_test.reshape(X_test.shape[0], X_test.shape[1], X_test.shape[2], 1)\n",
        "\n",
        "\n",
        "model2 = Sequential()\n",
        "input_shape = (X_train.shape[1], X_train.shape[2], 1)\n",
        "\n",
        "# Convolutional Layer\n",
        "model2.add(Conv2D(filters = 32, \n",
        "                 kernel_size = (3,3), \n",
        "                 input_shape = (32, 32, 3 ),\n",
        "                 activation = 'relu',\n",
        "                 padding='same'))\n",
        "model2.add(BatchNormalization())\n",
        "\n",
        "# Pooling layer\n",
        "model2.add(MaxPool2D( pool_size = (2,2)))\n",
        "\n",
        "# Dropout Layer\n",
        "model2.add(Dropout(0.25))\n",
        "\n",
        "model2.add(Conv2D(filters=64, kernel_size=(3, 3), activation='relu', padding='same'))\n",
        "model2.add(BatchNormalization())\n",
        "\n",
        "model2.add(MaxPool2D(pool_size=(2, 2)))\n",
        "model2.add(Dropout(0.25))\n",
        "\n",
        "model2.add(Conv2D(filters=128, kernel_size=(3, 3), activation='relu', padding='same'))\n",
        "model2.add(BatchNormalization())\n",
        "\n",
        "model2.add(MaxPool2D(pool_size=(2, 2)))\n",
        "model2.add(Dropout(0.25))\n",
        "\n",
        "\n",
        "# Flattening \n",
        "model2.add(Flatten())\n",
        "\n",
        "# Fully connected layers\n",
        "model2.add(Dense(128, activation = 'relu'))\n",
        "model2.add(Dense(64, activation = 'relu'))\n",
        "model2.add(Dropout(0.25))\n",
        "model2.add(Dense(64, activation = 'relu'))\n",
        "model2.add(Dense(10, activation = 'softmax'))\n",
        "\n",
        "\n",
        "\n",
        "model2.compile(loss = 'categorical_crossentropy', optimizer = 'adam', metrics = 'accuracy')\n",
        "\n",
        "\n",
        "\n",
        "model2.fit(X_train, y_train, epochs=12)\n",
        "model2.evaluate(X_test,y_test)"
      ],
      "metadata": {
        "colab": {
          "base_uri": "https://localhost:8080/"
        },
        "id": "6xzKfIIR3tBj",
        "outputId": "ad122b7d-45d4-40c4-eec0-a523c6d77278"
      },
      "execution_count": null,
      "outputs": [
        {
          "output_type": "stream",
          "name": "stdout",
          "text": [
            "Downloading data from https://www.cs.toronto.edu/~kriz/cifar-10-python.tar.gz\n",
            "170500096/170498071 [==============================] - 6s 0us/step\n",
            "170508288/170498071 [==============================] - 6s 0us/step\n",
            "[0. 0. 0. 0. 0. 0. 1. 0. 0. 0.]\n",
            "Epoch 1/12\n",
            "1563/1563 [==============================] - 110s 69ms/step - loss: 1.5989 - accuracy: 0.4193\n",
            "Epoch 2/12\n",
            "1563/1563 [==============================] - 104s 67ms/step - loss: 1.2105 - accuracy: 0.5727\n",
            "Epoch 3/12\n",
            "1563/1563 [==============================] - 108s 69ms/step - loss: 1.0419 - accuracy: 0.6385\n",
            "Epoch 4/12\n",
            "1563/1563 [==============================] - 108s 69ms/step - loss: 0.9375 - accuracy: 0.6792\n",
            "Epoch 5/12\n",
            "1563/1563 [==============================] - 113s 72ms/step - loss: 0.8626 - accuracy: 0.7037\n",
            "Epoch 6/12\n",
            "1563/1563 [==============================] - 119s 76ms/step - loss: 0.8052 - accuracy: 0.7230\n",
            "Epoch 7/12\n",
            "1563/1563 [==============================] - 102s 65ms/step - loss: 0.7554 - accuracy: 0.7426\n",
            "Epoch 8/12\n",
            "1563/1563 [==============================] - 102s 65ms/step - loss: 0.7196 - accuracy: 0.7546\n",
            "Epoch 9/12\n",
            "1563/1563 [==============================] - 110s 70ms/step - loss: 0.6885 - accuracy: 0.7641\n",
            "Epoch 10/12\n",
            "1563/1563 [==============================] - 122s 78ms/step - loss: 0.6608 - accuracy: 0.7728\n",
            "Epoch 11/12\n",
            "1563/1563 [==============================] - 103s 66ms/step - loss: 0.6294 - accuracy: 0.7847\n",
            "Epoch 12/12\n",
            "1563/1563 [==============================] - 103s 66ms/step - loss: 0.6086 - accuracy: 0.7925\n",
            "313/313 [==============================] - 6s 19ms/step - loss: 0.7784 - accuracy: 0.7424\n"
          ]
        },
        {
          "output_type": "execute_result",
          "data": {
            "text/plain": [
              "[0.7784286737442017, 0.7423999905586243]"
            ]
          },
          "metadata": {},
          "execution_count": 1
        }
      ]
    },
    {
      "cell_type": "code",
      "source": [
        "X_train.shape"
      ],
      "metadata": {
        "colab": {
          "base_uri": "https://localhost:8080/"
        },
        "id": "EMeU2x813s7-",
        "outputId": "c0997cc9-064a-4703-8d45-acfdafa9baca"
      },
      "execution_count": null,
      "outputs": [
        {
          "output_type": "execute_result",
          "data": {
            "text/plain": [
              "(50000, 32, 32, 3)"
            ]
          },
          "metadata": {},
          "execution_count": 4
        }
      ]
    },
    {
      "cell_type": "markdown",
      "source": [
        "# without augmentation gray"
      ],
      "metadata": {
        "id": "XBdqQsOERFVY"
      }
    },
    {
      "cell_type": "code",
      "source": [
        "from keras.models import Sequential, load_model\n",
        "from keras.layers import Conv2D, MaxPool2D, Flatten, Dense, Dropout,BatchNormalization\n",
        "import cv2\n",
        "import numpy as np\n",
        "import matplotlib.pyplot as plt\n",
        "import seaborn as sns; sns.set()\n",
        "from keras.datasets import cifar10\n",
        "import tensorflow as tf\n",
        "from sklearn.preprocessing import OneHotEncoder\n",
        "from sklearn.metrics import confusion_matrix\n",
        "from tensorflow.keras import datasets, layers, models\n",
        "from keras.layers import Conv2D, MaxPool2D, Flatten, Dense, Dropout\n",
        "from keras.models import Sequential, load_model\n",
        "\n",
        "\n",
        "# Loading data\n",
        "(X_train, y_train), (X_test, y_test) = cifar10.load_data()\n",
        "\n",
        "labels = ['airplane', 'automobile', 'bird', 'cat', 'deer', 'dog', 'frog', 'horse', 'ship', 'truck']\n",
        "\n",
        "# y_train = y_train.reshape(-1,)\n",
        "# y_test = y_test.reshape(-1,)\n",
        "\n",
        "y_train = tf.keras.utils.to_categorical(y_train, 10)\n",
        "y_test = tf.keras.utils.to_categorical(y_test, 10)\n",
        "print(y_train[0])\n",
        "\n",
        "X_train = np.array([cv2.cvtColor(image, cv2.COLOR_BGR2GRAY) for image in X_train])\n",
        "X_test = np.array([cv2.cvtColor(image, cv2.COLOR_BGR2GRAY) for image in X_test])\n",
        "\n",
        "\n",
        "X_train = X_train / 255.0\n",
        "X_test = X_test / 255.0\n",
        "\n",
        "X_train = X_train.reshape(X_train.shape[0], X_train.shape[1], X_train.shape[2], 1)\n",
        "X_test = X_test.reshape(X_test.shape[0], X_test.shape[1], X_test.shape[2], 1)\n",
        "\n",
        "\n",
        "model3 = Sequential()\n",
        "input_shape = (X_train.shape[1], X_train.shape[2], 1)\n",
        "\n",
        "# Convolutional Layer\n",
        "model3.add(Conv2D(filters = 32, \n",
        "                 kernel_size = (3,3), \n",
        "                 input_shape = (32, 32, 1 ),\n",
        "                 activation = 'relu',\n",
        "                 padding='same'))\n",
        "model3.add(BatchNormalization())\n",
        "model3.add(Conv2D(filters=32, kernel_size=(3, 3), activation='relu', padding='same'))\n",
        "model3.add(BatchNormalization())\n",
        "\n",
        "\n",
        "# Pooling layer\n",
        "model3.add(MaxPool2D( pool_size = (2,2)))\n",
        "\n",
        "# Dropout Layer\n",
        "model3.add(Dropout(0.25))\n",
        "\n",
        "model3.add(Conv2D(filters=64, kernel_size=(3, 3), activation='relu', padding='same'))\n",
        "model3.add(BatchNormalization())\n",
        "model3.add(Conv2D(filters=64, kernel_size=(3, 3), activation='relu', padding='same'))\n",
        "model3.add(BatchNormalization())\n",
        "\n",
        "model3.add(MaxPool2D(pool_size=(2, 2)))\n",
        "model3.add(Dropout(0.25))\n",
        "\n",
        "model3.add(Conv2D(filters=128, kernel_size=(3, 3), activation='relu', padding='same'))\n",
        "model3.add(BatchNormalization())\n",
        "model3.add(Conv2D(filters=128, kernel_size=(3, 3), activation='relu', padding='same'))\n",
        "model3.add(BatchNormalization())\n",
        "\n",
        "model3.add(MaxPool2D(pool_size=(2, 2)))\n",
        "model3.add(Dropout(0.25))\n",
        "\n",
        "\n",
        "# Flattening \n",
        "model3.add(Flatten())\n",
        "\n",
        "# Fully connected layers\n",
        "model3.add(Dense(128, activation = 'relu'))\n",
        "model3.add(Dropout(0.25))\n",
        "model3.add(Dense(10, activation = 'softmax'))\n",
        "\n",
        "\n",
        "\n",
        "model3.compile(loss = 'categorical_crossentropy', optimizer = 'adam', metrics = 'accuracy')\n",
        "\n",
        "\n",
        "\n",
        "model3.fit(X_train, y_train, epochs=12)\n",
        "model3.evaluate(X_test,y_test)"
      ],
      "metadata": {
        "colab": {
          "base_uri": "https://localhost:8080/"
        },
        "id": "8z0qW2rkROVb",
        "outputId": "5f4267c2-c9d9-414d-a178-5b4f3fe56517"
      },
      "execution_count": null,
      "outputs": [
        {
          "output_type": "stream",
          "name": "stdout",
          "text": [
            "Downloading data from https://www.cs.toronto.edu/~kriz/cifar-10-python.tar.gz\n",
            "170500096/170498071 [==============================] - 11s 0us/step\n",
            "170508288/170498071 [==============================] - 11s 0us/step\n",
            "[0. 0. 0. 0. 0. 0. 1. 0. 0. 0.]\n",
            "Epoch 1/12\n",
            "1563/1563 [==============================] - 41s 19ms/step - loss: 1.5459 - accuracy: 0.4528\n",
            "Epoch 2/12\n",
            "1563/1563 [==============================] - 27s 17ms/step - loss: 1.0841 - accuracy: 0.6262\n",
            "Epoch 3/12\n",
            "1563/1563 [==============================] - 27s 17ms/step - loss: 0.9324 - accuracy: 0.6813\n",
            "Epoch 4/12\n",
            "1563/1563 [==============================] - 28s 18ms/step - loss: 0.8274 - accuracy: 0.7165\n",
            "Epoch 5/12\n",
            "1563/1563 [==============================] - 27s 17ms/step - loss: 0.7516 - accuracy: 0.7461\n",
            "Epoch 6/12\n",
            "1563/1563 [==============================] - 27s 17ms/step - loss: 0.6905 - accuracy: 0.7641\n",
            "Epoch 7/12\n",
            "1563/1563 [==============================] - 27s 17ms/step - loss: 0.6370 - accuracy: 0.7826\n",
            "Epoch 8/12\n",
            "1563/1563 [==============================] - 27s 17ms/step - loss: 0.5958 - accuracy: 0.7975\n",
            "Epoch 9/12\n",
            "1563/1563 [==============================] - 27s 17ms/step - loss: 0.5575 - accuracy: 0.8090\n",
            "Epoch 10/12\n",
            "1563/1563 [==============================] - 27s 17ms/step - loss: 0.5268 - accuracy: 0.8208\n",
            "Epoch 11/12\n",
            "1563/1563 [==============================] - 26s 17ms/step - loss: 0.4934 - accuracy: 0.8302\n",
            "Epoch 12/12\n",
            "1563/1563 [==============================] - 26s 17ms/step - loss: 0.4697 - accuracy: 0.8379\n",
            "313/313 [==============================] - 3s 8ms/step - loss: 0.6420 - accuracy: 0.7959\n"
          ]
        },
        {
          "output_type": "execute_result",
          "data": {
            "text/plain": [
              "[0.6420462727546692, 0.7958999872207642]"
            ]
          },
          "metadata": {},
          "execution_count": 1
        }
      ]
    },
    {
      "cell_type": "markdown",
      "source": [
        "#Final"
      ],
      "metadata": {
        "id": "CRN8vMXhwRRZ"
      }
    },
    {
      "cell_type": "code",
      "source": [
        "from keras.models import Sequential, load_model\n",
        "from keras.layers import Conv2D, MaxPool2D, Flatten, Dense, Dropout,BatchNormalization\n",
        "import cv2\n",
        "import numpy as np\n",
        "import matplotlib.pyplot as plt\n",
        "import seaborn as sns; sns.set()\n",
        "from keras.datasets import cifar10\n",
        "import tensorflow as tf\n",
        "from sklearn.preprocessing import OneHotEncoder\n",
        "from sklearn.metrics import confusion_matrix\n",
        "from tensorflow.keras import datasets, layers, models\n",
        "from keras.layers import Conv2D, MaxPool2D, Flatten, Dense, Dropout\n",
        "from keras.models import Sequential, load_model\n",
        "\n",
        "\n",
        "# Loading data\n",
        "(X_train, y_train), (X_test, y_test) = cifar10.load_data()\n",
        "\n",
        "labels = ['airplane', 'automobile', 'bird', 'cat', 'deer', 'dog', 'frog', 'horse', 'ship', 'truck']\n",
        "\n",
        "# y_train = y_train.reshape(-1,)\n",
        "# y_test = y_test.reshape(-1,)\n",
        "\n",
        "y_train = tf.keras.utils.to_categorical(y_train, 10)\n",
        "y_test = tf.keras.utils.to_categorical(y_test, 10)\n",
        "print(y_train[0])\n",
        "\n",
        "# X_train = np.array([cv2.cvtColor(image, cv2.COLOR_BGR2GRAY) for image in X_train])\n",
        "# X_test = np.array([cv2.cvtColor(image, cv2.COLOR_BGR2GRAY) for image in X_test])\n",
        "\n",
        "\n",
        "X_train = X_train / 255.0\n",
        "X_test = X_test / 255.0\n",
        "\n",
        "# X_train = X_train.reshape(X_train.shape[0], X_train.shape[1], X_train.shape[2], 1)\n",
        "# X_test = X_test.reshape(X_test.shape[0], X_test.shape[1], X_test.shape[2], 1)\n",
        "\n",
        "\n",
        "model3 = Sequential()\n",
        "# input_shape = (X_train.shape[1], X_train.shape[2], 1)\n",
        "\n",
        "# Convolutional Layer\n",
        "model3.add(Conv2D(filters = 32, \n",
        "                 kernel_size = (3,3), \n",
        "                 input_shape = (32, 32, 3 ),\n",
        "                 activation = 'relu',\n",
        "                 padding='same'))\n",
        "model3.add(BatchNormalization())\n",
        "model3.add(Conv2D(filters=32, kernel_size=(3, 3), activation='relu', padding='same'))\n",
        "model3.add(BatchNormalization())\n",
        "\n",
        "\n",
        "# Pooling layer\n",
        "model3.add(MaxPool2D( pool_size = (2,2)))\n",
        "\n",
        "# Dropout Layer\n",
        "model3.add(Dropout(0.25))\n",
        "\n",
        "model3.add(Conv2D(filters=64, kernel_size=(3, 3), activation='relu', padding='same'))\n",
        "model3.add(BatchNormalization())\n",
        "model3.add(Conv2D(filters=64, kernel_size=(3, 3), activation='relu', padding='same'))\n",
        "model3.add(BatchNormalization())\n",
        "\n",
        "model3.add(MaxPool2D(pool_size=(2, 2)))\n",
        "model3.add(Dropout(0.25))\n",
        "\n",
        "model3.add(Conv2D(filters=128, kernel_size=(3, 3), activation='relu', padding='same'))\n",
        "model3.add(BatchNormalization())\n",
        "model3.add(Conv2D(filters=128, kernel_size=(3, 3), activation='relu', padding='same'))\n",
        "model3.add(BatchNormalization())\n",
        "\n",
        "model3.add(MaxPool2D(pool_size=(2, 2)))\n",
        "model3.add(Dropout(0.25))\n",
        "\n",
        "\n",
        "# Flattening \n",
        "model3.add(Flatten())\n",
        "\n",
        "# Fully connected layers\n",
        "model3.add(Dense(128, activation = 'relu'))\n",
        "model3.add(Dropout(0.25))\n",
        "model3.add(Dense(10, activation = 'softmax'))\n",
        "\n",
        "\n",
        "\n",
        "model3.compile(loss = 'categorical_crossentropy', optimizer = 'adam', metrics = 'accuracy')\n",
        "\n",
        "\n",
        "\n",
        "model3.fit(X_train, y_train, epochs=12)\n",
        "model3.evaluate(X_test,y_test)"
      ],
      "metadata": {
        "colab": {
          "base_uri": "https://localhost:8080/"
        },
        "id": "eHYDWyVv3s5H",
        "outputId": "f9cb14aa-e8cd-4171-fba5-fd9c2df15e08"
      },
      "execution_count": null,
      "outputs": [
        {
          "output_type": "stream",
          "name": "stdout",
          "text": [
            "Downloading data from https://www.cs.toronto.edu/~kriz/cifar-10-python.tar.gz\n",
            "170500096/170498071 [==============================] - 3s 0us/step\n",
            "170508288/170498071 [==============================] - 3s 0us/step\n",
            "[0. 0. 0. 0. 0. 0. 1. 0. 0. 0.]\n",
            "Epoch 1/12\n",
            "1563/1563 [==============================] - 43s 21ms/step - loss: 1.5208 - accuracy: 0.4551\n",
            "Epoch 2/12\n",
            "1563/1563 [==============================] - 28s 18ms/step - loss: 1.0673 - accuracy: 0.6272\n",
            "Epoch 3/12\n",
            "1563/1563 [==============================] - 33s 21ms/step - loss: 0.8979 - accuracy: 0.6908\n",
            "Epoch 4/12\n",
            "1563/1563 [==============================] - 33s 21ms/step - loss: 0.7959 - accuracy: 0.7270\n",
            "Epoch 5/12\n",
            "1563/1563 [==============================] - 32s 20ms/step - loss: 0.7143 - accuracy: 0.7558\n",
            "Epoch 6/12\n",
            "1563/1563 [==============================] - 32s 20ms/step - loss: 0.6541 - accuracy: 0.7752\n",
            "Epoch 7/12\n",
            "1563/1563 [==============================] - 32s 20ms/step - loss: 0.6077 - accuracy: 0.7933\n",
            "Epoch 8/12\n",
            "1563/1563 [==============================] - 32s 20ms/step - loss: 0.5655 - accuracy: 0.8072\n",
            "Epoch 9/12\n",
            "1563/1563 [==============================] - 32s 20ms/step - loss: 0.5324 - accuracy: 0.8197\n",
            "Epoch 10/12\n",
            "1563/1563 [==============================] - 31s 20ms/step - loss: 0.4913 - accuracy: 0.8322\n",
            "Epoch 11/12\n",
            "1563/1563 [==============================] - 32s 20ms/step - loss: 0.4754 - accuracy: 0.8385\n",
            "Epoch 12/12\n",
            "1563/1563 [==============================] - 32s 20ms/step - loss: 0.4413 - accuracy: 0.8491\n",
            "313/313 [==============================] - 5s 13ms/step - loss: 0.5228 - accuracy: 0.8300\n"
          ]
        },
        {
          "output_type": "execute_result",
          "data": {
            "text/plain": [
              "[0.5227547883987427, 0.8299999833106995]"
            ]
          },
          "metadata": {},
          "execution_count": 1
        }
      ]
    },
    {
      "cell_type": "code",
      "source": [
        "prediction = model3.evaluate(X_test, y_test)\n",
        "print(f'Test Accuracy : {prediction[1] * 100:.2f}%')"
      ],
      "metadata": {
        "colab": {
          "base_uri": "https://localhost:8080/"
        },
        "id": "mQ0qBeif2IvQ",
        "outputId": "2aba4cc5-b305-465b-80f7-477ceb43db0c"
      },
      "execution_count": null,
      "outputs": [
        {
          "output_type": "stream",
          "name": "stdout",
          "text": [
            "313/313 [==============================] - 3s 9ms/step - loss: 0.5228 - accuracy: 0.8300\n",
            "Test Accuracy : 83.00%\n"
          ]
        }
      ]
    },
    {
      "cell_type": "markdown",
      "source": [
        "# Final epoch 15 "
      ],
      "metadata": {
        "id": "5OHQQyNwW2mZ"
      }
    },
    {
      "cell_type": "code",
      "source": [
        "from keras.models import Sequential, load_model\n",
        "from keras.layers import Conv2D, MaxPool2D, Flatten, Dense, Dropout,BatchNormalization\n",
        "import cv2\n",
        "from keras.datasets import cifar10\n",
        "import numpy as np\n",
        "import matplotlib.pyplot as plt\n",
        "import seaborn as sns; sns.set()\n",
        "from keras.datasets import cifar10\n",
        "import tensorflow as tf\n",
        "from sklearn.preprocessing import OneHotEncoder\n",
        "from sklearn.metrics import confusion_matrix\n",
        "from tensorflow.keras import datasets, layers, models\n",
        "from keras.layers import Conv2D, MaxPool2D, Flatten, Dense, Dropout\n",
        "from keras.models import Sequential, load_model\n",
        "\n",
        "\n",
        "# Loading data\n",
        "(X_train, y_train), (X_test, y_test) = cifar10.load_data()\n",
        "\n",
        "labels = ['airplane', 'automobile', 'bird', 'cat', 'deer', 'dog', 'frog', 'horse', 'ship', 'truck']\n",
        "\n",
        "# y_train = y_train.reshape(-1,)\n",
        "# y_test = y_test.reshape(-1,)\n",
        "\n",
        "y_train = tf.keras.utils.to_categorical(y_train, 10)\n",
        "y_test = tf.keras.utils.to_categorical(y_test, 10)\n",
        "print(y_train[0])\n",
        "\n",
        "# X_train = np.array([cv2.cvtColor(image, cv2.COLOR_BGR2GRAY) for image in X_train])\n",
        "# X_test = np.array([cv2.cvtColor(image, cv2.COLOR_BGR2GRAY) for image in X_test])\n",
        "\n",
        "\n",
        "X_train = X_train / 255.0\n",
        "X_test = X_test / 255.0\n",
        "\n",
        "# X_train = X_train.reshape(X_train.shape[0], X_train.shape[1], X_train.shape[2], 1)\n",
        "# X_test = X_test.reshape(X_test.shape[0], X_test.shape[1], X_test.shape[2], 1)\n",
        "\n",
        "\n",
        "model3 = Sequential()\n",
        "input_shape = (X_train.shape[1], X_train.shape[2], 1)\n",
        "\n",
        "# Convolutional Layer\n",
        "model3.add(Conv2D(filters = 32, \n",
        "                 kernel_size = (3,3), \n",
        "                 input_shape = (32, 32, 3 ),\n",
        "                 activation = 'relu',\n",
        "                 padding='same'))\n",
        "model3.add(BatchNormalization())\n",
        "model3.add(Conv2D(filters=32, kernel_size=(3, 3), activation='relu', padding='same'))\n",
        "model3.add(BatchNormalization())\n",
        "\n",
        "\n",
        "# Pooling layer\n",
        "model3.add(MaxPool2D( pool_size = (2,2)))\n",
        "\n",
        "# Dropout Layer\n",
        "model3.add(Dropout(0.25))\n",
        "\n",
        "model3.add(Conv2D(filters=64, kernel_size=(3, 3), activation='relu', padding='same'))\n",
        "model3.add(BatchNormalization())\n",
        "model3.add(Conv2D(filters=64, kernel_size=(3, 3), activation='relu', padding='same'))\n",
        "model3.add(BatchNormalization())\n",
        "\n",
        "model3.add(MaxPool2D(pool_size=(2, 2)))\n",
        "model3.add(Dropout(0.25))\n",
        "\n",
        "model3.add(Conv2D(filters=128, kernel_size=(3, 3), activation='relu', padding='same'))\n",
        "model3.add(BatchNormalization())\n",
        "model3.add(Conv2D(filters=128, kernel_size=(3, 3), activation='relu', padding='same'))\n",
        "model3.add(BatchNormalization())\n",
        "\n",
        "model3.add(MaxPool2D(pool_size=(2, 2)))\n",
        "model3.add(Dropout(0.25))\n",
        "\n",
        "\n",
        "# Flattening \n",
        "model3.add(Flatten())\n",
        "\n",
        "# Fully connected layers\n",
        "model3.add(Dense(128, activation = 'relu'))\n",
        "model3.add(Dropout(0.25))\n",
        "model3.add(Dense(10, activation = 'softmax'))\n",
        "\n",
        "\n",
        "\n",
        "model3.compile(loss = 'categorical_crossentropy', optimizer = 'adam', metrics = 'accuracy')\n",
        "\n",
        "\n",
        "\n",
        "model3.fit(X_train, y_train, epochs=15)\n",
        "model3.evaluate(X_test,y_test)"
      ],
      "metadata": {
        "colab": {
          "base_uri": "https://localhost:8080/"
        },
        "id": "ezWSMjubW6EM",
        "outputId": "9a7ab852-b2a0-4615-a322-d7d8eab86d50"
      },
      "execution_count": null,
      "outputs": [
        {
          "output_type": "stream",
          "name": "stdout",
          "text": [
            "Downloading data from https://www.cs.toronto.edu/~kriz/cifar-10-python.tar.gz\n",
            "170500096/170498071 [==============================] - 3s 0us/step\n",
            "170508288/170498071 [==============================] - 3s 0us/step\n",
            "[0. 0. 0. 0. 0. 0. 1. 0. 0. 0.]\n",
            "Epoch 1/15\n",
            "1563/1563 [==============================] - 47s 22ms/step - loss: 1.5047 - accuracy: 0.4625\n",
            "Epoch 2/15\n",
            "1563/1563 [==============================] - 30s 19ms/step - loss: 1.0562 - accuracy: 0.6325\n",
            "Epoch 3/15\n",
            "1563/1563 [==============================] - 30s 19ms/step - loss: 0.8925 - accuracy: 0.6920\n",
            "Epoch 4/15\n",
            "1563/1563 [==============================] - 30s 19ms/step - loss: 0.7954 - accuracy: 0.7250\n",
            "Epoch 5/15\n",
            "1563/1563 [==============================] - 30s 19ms/step - loss: 0.7177 - accuracy: 0.7544\n",
            "Epoch 6/15\n",
            "1563/1563 [==============================] - 30s 19ms/step - loss: 0.6594 - accuracy: 0.7754\n",
            "Epoch 7/15\n",
            "1563/1563 [==============================] - 30s 19ms/step - loss: 0.6084 - accuracy: 0.7920\n",
            "Epoch 8/15\n",
            "1563/1563 [==============================] - 29s 19ms/step - loss: 0.5642 - accuracy: 0.8071\n",
            "Epoch 9/15\n",
            "1563/1563 [==============================] - 29s 19ms/step - loss: 0.5275 - accuracy: 0.8198\n",
            "Epoch 10/15\n",
            "1563/1563 [==============================] - 30s 19ms/step - loss: 0.4994 - accuracy: 0.8298\n",
            "Epoch 11/15\n",
            "1563/1563 [==============================] - 29s 19ms/step - loss: 0.4676 - accuracy: 0.8391\n",
            "Epoch 12/15\n",
            "1563/1563 [==============================] - 29s 19ms/step - loss: 0.4404 - accuracy: 0.8481\n",
            "Epoch 13/15\n",
            "1563/1563 [==============================] - 30s 19ms/step - loss: 0.4168 - accuracy: 0.8558\n",
            "Epoch 14/15\n",
            "1563/1563 [==============================] - 30s 19ms/step - loss: 0.4001 - accuracy: 0.8623\n",
            "Epoch 15/15\n",
            "1563/1563 [==============================] - 29s 19ms/step - loss: 0.3827 - accuracy: 0.8666\n",
            "313/313 [==============================] - 3s 8ms/step - loss: 0.5209 - accuracy: 0.8354\n"
          ]
        },
        {
          "output_type": "execute_result",
          "data": {
            "text/plain": [
              "[0.5209358334541321, 0.8353999853134155]"
            ]
          },
          "metadata": {},
          "execution_count": 1
        }
      ]
    },
    {
      "cell_type": "markdown",
      "source": [
        "# Final epoch 15 + added layer"
      ],
      "metadata": {
        "id": "OakDtEu2Uefg"
      }
    },
    {
      "cell_type": "code",
      "source": [
        "from keras.models import Sequential, load_model\n",
        "from keras.layers import Conv2D, MaxPool2D, Flatten, Dense, Dropout,BatchNormalization\n",
        "import cv2\n",
        "import numpy as np\n",
        "from keras.datasets import cifar10\n",
        "import matplotlib.pyplot as plt\n",
        "import seaborn as sns; sns.set()\n",
        "from keras.datasets import cifar10\n",
        "import tensorflow as tf\n",
        "from sklearn.preprocessing import OneHotEncoder\n",
        "from sklearn.metrics import confusion_matrix\n",
        "from tensorflow.keras import datasets, layers, models\n",
        "from keras.layers import Conv2D, MaxPool2D, Flatten, Dense, Dropout\n",
        "from keras.models import Sequential, load_model\n",
        "\n",
        "\n",
        "# Loading data\n",
        "(X_train, y_train), (X_test, y_test) = cifar10.load_data()\n",
        "\n",
        "labels = ['airplane', 'automobile', 'bird', 'cat', 'deer', 'dog', 'frog', 'horse', 'ship', 'truck']\n",
        "\n",
        "# y_train = y_train.reshape(-1,)\n",
        "# y_test = y_test.reshape(-1,)\n",
        "\n",
        "y_train = tf.keras.utils.to_categorical(y_train, 10)\n",
        "y_test = tf.keras.utils.to_categorical(y_test, 10)\n",
        "print(y_train[0])\n",
        "\n",
        "# X_train = np.array([cv2.cvtColor(image, cv2.COLOR_BGR2GRAY) for image in X_train])\n",
        "# X_test = np.array([cv2.cvtColor(image, cv2.COLOR_BGR2GRAY) for image in X_test])\n",
        "\n",
        "\n",
        "X_train = X_train / 255.0\n",
        "X_test = X_test / 255.0\n",
        "\n",
        "# X_train = X_train.reshape(X_train.shape[0], X_train.shape[1], X_train.shape[2], 1)\n",
        "# X_test = X_test.reshape(X_test.shape[0], X_test.shape[1], X_test.shape[2], 1)\n",
        "\n",
        "\n",
        "model3 = Sequential()\n",
        "input_shape = (X_train.shape[1], X_train.shape[2], 1)\n",
        "\n",
        "# Convolutional Layer\n",
        "model3.add(Conv2D(filters = 32, \n",
        "                 kernel_size = (3,3), \n",
        "                 input_shape = (32, 32, 3 ),\n",
        "                 activation = 'relu',\n",
        "                 padding='same'))\n",
        "model3.add(BatchNormalization())\n",
        "model3.add(Conv2D(filters=32, kernel_size=(3, 3), activation='relu', padding='same'))\n",
        "model3.add(BatchNormalization())\n",
        "\n",
        "\n",
        "# Pooling layer\n",
        "model3.add(MaxPool2D( pool_size = (2,2)))\n",
        "\n",
        "# Dropout Layer\n",
        "model3.add(Dropout(0.25))\n",
        "\n",
        "model3.add(Conv2D(filters=64, kernel_size=(3, 3), activation='relu', padding='same'))\n",
        "model3.add(BatchNormalization())\n",
        "model3.add(Conv2D(filters=64, kernel_size=(3, 3), activation='relu', padding='same'))\n",
        "model3.add(BatchNormalization())\n",
        "\n",
        "model3.add(MaxPool2D(pool_size=(2, 2)))\n",
        "model3.add(Dropout(0.25))\n",
        "\n",
        "model3.add(Conv2D(filters=128, kernel_size=(3, 3), activation='relu', padding='same'))\n",
        "model3.add(BatchNormalization())\n",
        "model3.add(Conv2D(filters=128, kernel_size=(3, 3), activation='relu', padding='same'))\n",
        "model3.add(BatchNormalization())\n",
        "\n",
        "model3.add(MaxPool2D(pool_size=(2, 2)))\n",
        "model3.add(Dropout(0.25))\n",
        "\n",
        "\n",
        "# Flattening \n",
        "model3.add(Flatten())\n",
        "\n",
        "# Fully connected layers\n",
        "model3.add(Dense(128, activation = 'relu'))\n",
        "model3.add(Dropout(0.25))\n",
        "model3.add(Dense(64, activation = 'relu'))\n",
        "model3.add(Dense(10, activation = 'softmax'))\n",
        "\n",
        "\n",
        "\n",
        "model3.compile(loss = 'categorical_crossentropy', optimizer = 'adam', metrics = 'accuracy')\n",
        "\n",
        "\n",
        "\n",
        "model3.fit(X_train, y_train, epochs=15)\n",
        "model3.evaluate(X_test,y_test)"
      ],
      "metadata": {
        "colab": {
          "base_uri": "https://localhost:8080/"
        },
        "id": "5tOaVCzHUi_g",
        "outputId": "e6b50e7e-5c5c-4d12-87de-249176854f60"
      },
      "execution_count": null,
      "outputs": [
        {
          "output_type": "stream",
          "name": "stdout",
          "text": [
            "Downloading data from https://www.cs.toronto.edu/~kriz/cifar-10-python.tar.gz\n",
            "170500096/170498071 [==============================] - 13s 0us/step\n",
            "170508288/170498071 [==============================] - 13s 0us/step\n",
            "[0. 0. 0. 0. 0. 0. 1. 0. 0. 0.]\n",
            "Epoch 1/15\n",
            "1563/1563 [==============================] - 21s 7ms/step - loss: 1.5123 - accuracy: 0.4562\n",
            "Epoch 2/15\n",
            "1563/1563 [==============================] - 10s 6ms/step - loss: 1.0496 - accuracy: 0.6334\n",
            "Epoch 3/15\n",
            "1563/1563 [==============================] - 10s 6ms/step - loss: 0.8750 - accuracy: 0.6992\n",
            "Epoch 4/15\n",
            "1563/1563 [==============================] - 10s 6ms/step - loss: 0.7753 - accuracy: 0.7353\n",
            "Epoch 5/15\n",
            "1563/1563 [==============================] - 10s 6ms/step - loss: 0.6952 - accuracy: 0.7623\n",
            "Epoch 6/15\n",
            "1563/1563 [==============================] - 10s 6ms/step - loss: 0.6336 - accuracy: 0.7859\n",
            "Epoch 7/15\n",
            "1563/1563 [==============================] - 10s 6ms/step - loss: 0.5880 - accuracy: 0.8008\n",
            "Epoch 8/15\n",
            "1563/1563 [==============================] - 10s 7ms/step - loss: 0.5426 - accuracy: 0.8120\n",
            "Epoch 9/15\n",
            "1563/1563 [==============================] - 10s 6ms/step - loss: 0.5095 - accuracy: 0.8266\n",
            "Epoch 10/15\n",
            "1563/1563 [==============================] - 10s 6ms/step - loss: 0.4801 - accuracy: 0.8368\n",
            "Epoch 11/15\n",
            "1563/1563 [==============================] - 10s 7ms/step - loss: 0.4562 - accuracy: 0.8428\n",
            "Epoch 12/15\n",
            "1563/1563 [==============================] - 10s 6ms/step - loss: 0.4366 - accuracy: 0.8510\n",
            "Epoch 13/15\n",
            "1563/1563 [==============================] - 10s 6ms/step - loss: 0.4162 - accuracy: 0.8565\n",
            "Epoch 14/15\n",
            "1563/1563 [==============================] - 10s 6ms/step - loss: 0.3937 - accuracy: 0.8650\n",
            "Epoch 15/15\n",
            "1563/1563 [==============================] - 10s 6ms/step - loss: 0.3768 - accuracy: 0.8700\n",
            "313/313 [==============================] - 2s 4ms/step - loss: 0.4889 - accuracy: 0.8382\n"
          ]
        },
        {
          "output_type": "execute_result",
          "data": {
            "text/plain": [
              "[0.4889247417449951, 0.8381999731063843]"
            ]
          },
          "metadata": {},
          "execution_count": 3
        }
      ]
    },
    {
      "cell_type": "markdown",
      "source": [
        "#Augmented gray data"
      ],
      "metadata": {
        "id": "lPDXbc4Zyme5"
      }
    },
    {
      "cell_type": "code",
      "source": [
        "from keras.models import Sequential, load_model\n",
        "from keras.layers import Conv2D, MaxPool2D, Flatten, Dense, Dropout,BatchNormalization\n",
        "import cv2\n",
        "import numpy as np\n",
        "import matplotlib.pyplot as plt\n",
        "import seaborn as sns; sns.set()\n",
        "from keras.datasets import cifar10\n",
        "import tensorflow as tf\n",
        "from sklearn.preprocessing import OneHotEncoder\n",
        "from sklearn.metrics import confusion_matrix\n",
        "from tensorflow.keras import datasets, layers, models\n",
        "from keras.layers import Conv2D, MaxPool2D, Flatten, Dense, Dropout\n",
        "from keras.models import Sequential, load_model\n",
        "\n",
        "\n",
        "# Loading data\n",
        "(X_train, y_train), (X_test, y_test) = cifar10.load_data()\n",
        "\n",
        "labels = ['airplane', 'automobile', 'bird', 'cat', 'deer', 'dog', 'frog', 'horse', 'ship', 'truck']\n",
        "\n",
        "# y_train = y_train.reshape(-1,)\n",
        "# y_test = y_test.reshape(-1,)\n",
        "\n",
        "y_train = tf.keras.utils.to_categorical(y_train, 10)\n",
        "y_test = tf.keras.utils.to_categorical(y_test, 10)\n",
        "print(y_train[0])\n",
        "\n",
        "X_train = np.array([cv2.cvtColor(image, cv2.COLOR_BGR2GRAY) for image in X_train])\n",
        "X_test = np.array([cv2.cvtColor(image, cv2.COLOR_BGR2GRAY) for image in X_test])\n",
        "\n",
        "\n",
        "X_train = X_train / 255.0\n",
        "X_test = X_test / 255.0\n",
        "\n",
        "X_train = X_train.reshape(X_train.shape[0], X_train.shape[1], X_train.shape[2], 1)\n",
        "X_test = X_test.reshape(X_test.shape[0], X_test.shape[1], X_test.shape[2], 1)\n",
        "\n",
        "\n",
        "model4 = Sequential()\n",
        "input_shape = (X_train.shape[1], X_train.shape[2], 1)\n",
        "\n",
        "# Convolutional Layer\n",
        "model4.add(Conv2D(filters = 32, \n",
        "                 kernel_size = (3,3), \n",
        "                 input_shape = (32, 32, 1 ),\n",
        "                 activation = 'relu',\n",
        "                 padding='same'))\n",
        "model4.add(BatchNormalization())\n",
        "model4.add(Conv2D(filters=32, kernel_size=(3, 3), activation='relu', padding='same'))\n",
        "model4.add(BatchNormalization())\n",
        "\n",
        "\n",
        "# Pooling layer\n",
        "model4.add(MaxPool2D( pool_size = (2,2)))\n",
        "\n",
        "# Dropout Layer\n",
        "model4.add(Dropout(0.25))\n",
        "\n",
        "model4.add(Conv2D(filters=64, kernel_size=(3, 3), activation='relu', padding='same'))\n",
        "model4.add(BatchNormalization())\n",
        "model4.add(Conv2D(filters=64, kernel_size=(3, 3), activation='relu', padding='same'))\n",
        "model4.add(BatchNormalization())\n",
        "\n",
        "model4.add(MaxPool2D(pool_size=(2, 2)))\n",
        "model4.add(Dropout(0.25))\n",
        "\n",
        "model4.add(Conv2D(filters=128, kernel_size=(3, 3), activation='relu', padding='same'))\n",
        "model4.add(BatchNormalization())\n",
        "model4.add(Conv2D(filters=128, kernel_size=(3, 3), activation='relu', padding='same'))\n",
        "model4.add(BatchNormalization())\n",
        "\n",
        "model4.add(MaxPool2D(pool_size=(2, 2)))\n",
        "model4.add(Dropout(0.25))\n",
        "\n",
        "\n",
        "# Flattening \n",
        "model4.add(Flatten())\n",
        "\n",
        "# Fully connected layers\n",
        "model4.add(Dense(128, activation = 'relu'))\n",
        "model4.add(Dropout(0.25))\n",
        "model4.add(Dense(10, activation = 'softmax'))\n",
        "\n",
        "\n",
        "\n",
        "model4.compile(loss = 'categorical_crossentropy', optimizer = 'adam', metrics = 'accuracy')\n",
        "\n",
        "from tensorflow.keras.preprocessing.image import ImageDataGenerator\n",
        "batch_size = 32\n",
        "data_generator = ImageDataGenerator(width_shift_range=0.1, height_shift_range=0.1, horizontal_flip=True)\n",
        "train_generator = data_generator.flow(X_train, y_train, batch_size)\n",
        "steps_per_epoch = X_train.shape[0] // batch_size\n",
        "\n",
        "from keras.callbacks import EarlyStopping\n",
        "es = EarlyStopping(monitor='val_loss', mode='min', verbose=1, patience=3)\n",
        "\n",
        "r = model4.fit(train_generator, \n",
        "              epochs = 50,\n",
        "              steps_per_epoch = steps_per_epoch,\n",
        "              validation_data = (X_test, y_test),\n",
        "               callbacks = [es])\n",
        "model4.evaluate(X_test,y_test)"
      ],
      "metadata": {
        "colab": {
          "base_uri": "https://localhost:8080/"
        },
        "id": "wd2AtHsD3s2e",
        "outputId": "4d86e61b-b2bc-43a1-9312-208dc64ea90a"
      },
      "execution_count": null,
      "outputs": [
        {
          "output_type": "stream",
          "name": "stdout",
          "text": [
            "Downloading data from https://www.cs.toronto.edu/~kriz/cifar-10-python.tar.gz\n",
            "170500096/170498071 [==============================] - 2s 0us/step\n",
            "170508288/170498071 [==============================] - 2s 0us/step\n",
            "[0. 0. 0. 0. 0. 0. 1. 0. 0. 0.]\n",
            "Epoch 1/50\n",
            "1562/1562 [==============================] - 30s 13ms/step - loss: 1.7098 - accuracy: 0.3833 - val_loss: 1.2641 - val_accuracy: 0.5540\n",
            "Epoch 2/50\n",
            "1562/1562 [==============================] - 19s 12ms/step - loss: 1.2687 - accuracy: 0.5537 - val_loss: 1.1775 - val_accuracy: 0.5940\n",
            "Epoch 3/50\n",
            "1562/1562 [==============================] - 19s 12ms/step - loss: 1.0991 - accuracy: 0.6207 - val_loss: 1.0531 - val_accuracy: 0.6396\n",
            "Epoch 4/50\n",
            "1562/1562 [==============================] - 21s 13ms/step - loss: 0.9902 - accuracy: 0.6620 - val_loss: 0.9593 - val_accuracy: 0.6749\n",
            "Epoch 5/50\n",
            "1562/1562 [==============================] - 20s 13ms/step - loss: 0.9222 - accuracy: 0.6881 - val_loss: 0.7924 - val_accuracy: 0.7387\n",
            "Epoch 6/50\n",
            "1562/1562 [==============================] - 20s 12ms/step - loss: 0.8676 - accuracy: 0.7068 - val_loss: 0.7546 - val_accuracy: 0.7462\n",
            "Epoch 7/50\n",
            "1562/1562 [==============================] - 19s 12ms/step - loss: 0.8190 - accuracy: 0.7216 - val_loss: 0.7740 - val_accuracy: 0.7477\n",
            "Epoch 8/50\n",
            "1562/1562 [==============================] - 20s 12ms/step - loss: 0.7899 - accuracy: 0.7320 - val_loss: 0.6934 - val_accuracy: 0.7677\n",
            "Epoch 9/50\n",
            "1562/1562 [==============================] - 20s 13ms/step - loss: 0.7565 - accuracy: 0.7468 - val_loss: 0.6831 - val_accuracy: 0.7719\n",
            "Epoch 10/50\n",
            "1562/1562 [==============================] - 19s 12ms/step - loss: 0.7328 - accuracy: 0.7538 - val_loss: 0.6687 - val_accuracy: 0.7814\n",
            "Epoch 11/50\n",
            "1562/1562 [==============================] - 19s 12ms/step - loss: 0.7102 - accuracy: 0.7600 - val_loss: 0.7129 - val_accuracy: 0.7687\n",
            "Epoch 12/50\n",
            "1562/1562 [==============================] - 19s 12ms/step - loss: 0.6899 - accuracy: 0.7692 - val_loss: 0.6350 - val_accuracy: 0.7939\n",
            "Epoch 13/50\n",
            "1562/1562 [==============================] - 19s 12ms/step - loss: 0.6687 - accuracy: 0.7742 - val_loss: 0.5746 - val_accuracy: 0.8101\n",
            "Epoch 14/50\n",
            "1562/1562 [==============================] - 19s 12ms/step - loss: 0.6508 - accuracy: 0.7824 - val_loss: 0.6359 - val_accuracy: 0.7909\n",
            "Epoch 15/50\n",
            "1562/1562 [==============================] - 20s 12ms/step - loss: 0.6365 - accuracy: 0.7866 - val_loss: 0.5935 - val_accuracy: 0.8034\n",
            "Epoch 16/50\n",
            "1562/1562 [==============================] - 20s 12ms/step - loss: 0.6217 - accuracy: 0.7885 - val_loss: 0.5333 - val_accuracy: 0.8214\n",
            "Epoch 17/50\n",
            "1562/1562 [==============================] - 20s 13ms/step - loss: 0.6005 - accuracy: 0.7967 - val_loss: 0.5321 - val_accuracy: 0.8205\n",
            "Epoch 18/50\n",
            "1562/1562 [==============================] - 19s 12ms/step - loss: 0.5956 - accuracy: 0.7985 - val_loss: 0.6051 - val_accuracy: 0.7984\n",
            "Epoch 19/50\n",
            "1562/1562 [==============================] - 23s 15ms/step - loss: 0.5867 - accuracy: 0.8024 - val_loss: 0.5118 - val_accuracy: 0.8316\n",
            "Epoch 20/50\n",
            "1562/1562 [==============================] - 20s 13ms/step - loss: 0.5836 - accuracy: 0.8028 - val_loss: 0.5585 - val_accuracy: 0.8112\n",
            "Epoch 21/50\n",
            "1562/1562 [==============================] - 19s 12ms/step - loss: 0.5642 - accuracy: 0.8084 - val_loss: 0.4882 - val_accuracy: 0.8392\n",
            "Epoch 22/50\n",
            "1562/1562 [==============================] - 23s 15ms/step - loss: 0.5567 - accuracy: 0.8102 - val_loss: 0.5639 - val_accuracy: 0.8121\n",
            "Epoch 23/50\n",
            "1562/1562 [==============================] - 29s 19ms/step - loss: 0.5499 - accuracy: 0.8120 - val_loss: 0.4919 - val_accuracy: 0.8410\n",
            "Epoch 24/50\n",
            "1562/1562 [==============================] - 26s 16ms/step - loss: 0.5379 - accuracy: 0.8162 - val_loss: 0.5459 - val_accuracy: 0.8217\n",
            "Epoch 24: early stopping\n",
            "313/313 [==============================] - 1s 4ms/step - loss: 0.5459 - accuracy: 0.8217\n"
          ]
        },
        {
          "output_type": "execute_result",
          "data": {
            "text/plain": [
              "[0.5459463596343994, 0.8216999769210815]"
            ]
          },
          "metadata": {},
          "execution_count": 1
        }
      ]
    },
    {
      "cell_type": "markdown",
      "source": [
        "# augmented coloured data"
      ],
      "metadata": {
        "id": "R-jxpbtX4RT1"
      }
    },
    {
      "cell_type": "code",
      "source": [
        "from keras.models import Sequential, load_model\n",
        "from keras.layers import Conv2D, MaxPool2D, Flatten, Dense, Dropout,BatchNormalization\n",
        "import cv2\n",
        "import numpy as np\n",
        "import matplotlib.pyplot as plt\n",
        "import seaborn as sns; sns.set()\n",
        "from keras.datasets import cifar10\n",
        "import tensorflow as tf\n",
        "from sklearn.preprocessing import OneHotEncoder\n",
        "from sklearn.metrics import confusion_matrix\n",
        "from tensorflow.keras import datasets, layers, models\n",
        "from keras.layers import Conv2D, MaxPool2D, Flatten, Dense, Dropout\n",
        "from keras.models import Sequential, load_model\n",
        "\n",
        "\n",
        "# Loading data\n",
        "(X_train, y_train), (X_test, y_test) = cifar10.load_data()\n",
        "\n",
        "labels = ['airplane', 'automobile', 'bird', 'cat', 'deer', 'dog', 'frog', 'horse', 'ship', 'truck']\n",
        "\n",
        "# y_train = y_train.reshape(-1,)\n",
        "# y_test = y_test.reshape(-1,)\n",
        "\n",
        "y_train = tf.keras.utils.to_categorical(y_train, 10)\n",
        "y_test = tf.keras.utils.to_categorical(y_test, 10)\n",
        "print(y_train[0])\n",
        "\n",
        "# X_train = np.array([cv2.cvtColor(image, cv2.COLOR_BGR2GRAY) for image in X_train])\n",
        "# X_test = np.array([cv2.cvtColor(image, cv2.COLOR_BGR2GRAY) for image in X_test])\n",
        "\n",
        "\n",
        "X_train = X_train / 255.0\n",
        "X_test = X_test / 255.0\n",
        "\n",
        "# X_train = X_train.reshape(X_train.shape[0], X_train.shape[1], X_train.shape[2], 1)\n",
        "# X_test = X_test.reshape(X_test.shape[0], X_test.shape[1], X_test.shape[2], 1)\n",
        "\n",
        "\n",
        "model5 = Sequential()\n",
        "input_shape = (X_train.shape[1], X_train.shape[2], 1)\n",
        "\n",
        "# Convolutional Layer\n",
        "model5.add(Conv2D(filters = 32, \n",
        "                 kernel_size = (3,3), \n",
        "                 input_shape = (32, 32, 3 ),\n",
        "                 activation = 'relu',\n",
        "                 padding='same'))\n",
        "model5.add(BatchNormalization())\n",
        "model5.add(Conv2D(filters=32, kernel_size=(3, 3), activation='relu', padding='same'))\n",
        "model5.add(BatchNormalization())\n",
        "\n",
        "\n",
        "# Pooling layer\n",
        "model5.add(MaxPool2D( pool_size = (2,2)))\n",
        "\n",
        "# Dropout Layer\n",
        "model5.add(Dropout(0.25))\n",
        "\n",
        "model5.add(Conv2D(filters=64, kernel_size=(3, 3), activation='relu', padding='same'))\n",
        "model5.add(BatchNormalization())\n",
        "model5.add(Conv2D(filters=64, kernel_size=(3, 3), activation='relu', padding='same'))\n",
        "model5.add(BatchNormalization())\n",
        "\n",
        "model5.add(MaxPool2D(pool_size=(2, 2)))\n",
        "model5.add(Dropout(0.25))\n",
        "\n",
        "model5.add(Conv2D(filters=128, kernel_size=(3, 3), activation='relu', padding='same'))\n",
        "model5.add(BatchNormalization())\n",
        "model5.add(Conv2D(filters=128, kernel_size=(3, 3), activation='relu', padding='same'))\n",
        "model5.add(BatchNormalization())\n",
        "\n",
        "model5.add(MaxPool2D(pool_size=(2, 2)))\n",
        "model5.add(Dropout(0.25))\n",
        "\n",
        "\n",
        "# Flattening \n",
        "model5.add(Flatten())\n",
        "\n",
        "# Fully connected layers\n",
        "model5.add(Dense(128, activation = 'relu'))\n",
        "model5.add(Dropout(0.25))\n",
        "model5.add(Dense(10, activation = 'softmax'))\n",
        "\n",
        "\n",
        "\n",
        "model5.compile(loss = 'categorical_crossentropy', optimizer = 'adam', metrics = 'accuracy')\n",
        "\n",
        "from tensorflow.keras.preprocessing.image import ImageDataGenerator\n",
        "batch_size = 32\n",
        "data_generator = ImageDataGenerator(width_shift_range=0.1, height_shift_range=0.1, horizontal_flip=True)\n",
        "train_generator = data_generator.flow(X_train, y_train, batch_size)\n",
        "steps_per_epoch = X_train.shape[0] // batch_size\n",
        "\n",
        "from keras.callbacks import EarlyStopping\n",
        "es = EarlyStopping(monitor='val_loss', mode='min', verbose=1, patience=3)\n",
        "\n",
        "r = model5.fit(train_generator, \n",
        "              epochs = 50,\n",
        "              steps_per_epoch = steps_per_epoch,\n",
        "              validation_data = (X_test, y_test),\n",
        "               callbacks = [es])\n",
        "model5.evaluate(X_test,y_test)"
      ],
      "metadata": {
        "colab": {
          "base_uri": "https://localhost:8080/"
        },
        "id": "iGtZDr3e3szT",
        "outputId": "b95067e1-591c-431f-e61f-1a99f4e31c99"
      },
      "execution_count": null,
      "outputs": [
        {
          "output_type": "stream",
          "name": "stdout",
          "text": [
            "[0. 0. 0. 0. 0. 0. 1. 0. 0. 0.]\n",
            "Epoch 1/50\n",
            "1562/1562 [==============================] - 30s 18ms/step - loss: 1.6337 - accuracy: 0.4065 - val_loss: 1.2429 - val_accuracy: 0.5390\n",
            "Epoch 2/50\n",
            "1562/1562 [==============================] - 29s 19ms/step - loss: 1.2115 - accuracy: 0.5691 - val_loss: 0.9825 - val_accuracy: 0.6475\n",
            "Epoch 3/50\n",
            "1562/1562 [==============================] - 28s 18ms/step - loss: 1.0249 - accuracy: 0.6438 - val_loss: 0.9542 - val_accuracy: 0.6764\n",
            "Epoch 4/50\n",
            "1562/1562 [==============================] - 29s 19ms/step - loss: 0.9257 - accuracy: 0.6799 - val_loss: 0.8885 - val_accuracy: 0.7000\n",
            "Epoch 5/50\n",
            "1562/1562 [==============================] - 28s 18ms/step - loss: 0.8435 - accuracy: 0.7129 - val_loss: 0.7557 - val_accuracy: 0.7438\n",
            "Epoch 6/50\n",
            "1562/1562 [==============================] - 28s 18ms/step - loss: 0.7872 - accuracy: 0.7303 - val_loss: 0.7518 - val_accuracy: 0.7564\n",
            "Epoch 7/50\n",
            "1562/1562 [==============================] - 28s 18ms/step - loss: 0.7471 - accuracy: 0.7473 - val_loss: 0.7293 - val_accuracy: 0.7621\n",
            "Epoch 8/50\n",
            "1562/1562 [==============================] - 29s 18ms/step - loss: 0.7155 - accuracy: 0.7594 - val_loss: 0.6833 - val_accuracy: 0.7664\n",
            "Epoch 9/50\n",
            "1562/1562 [==============================] - 28s 18ms/step - loss: 0.6813 - accuracy: 0.7695 - val_loss: 0.5916 - val_accuracy: 0.7995\n",
            "Epoch 10/50\n",
            "1562/1562 [==============================] - 28s 18ms/step - loss: 0.6453 - accuracy: 0.7801 - val_loss: 0.5784 - val_accuracy: 0.8102\n",
            "Epoch 11/50\n",
            "1562/1562 [==============================] - 28s 18ms/step - loss: 0.6297 - accuracy: 0.7859 - val_loss: 0.6666 - val_accuracy: 0.7797\n",
            "Epoch 12/50\n",
            "1562/1562 [==============================] - 29s 18ms/step - loss: 0.6154 - accuracy: 0.7916 - val_loss: 0.5574 - val_accuracy: 0.8142\n",
            "Epoch 13/50\n",
            "1562/1562 [==============================] - 28s 18ms/step - loss: 0.5968 - accuracy: 0.7972 - val_loss: 0.5873 - val_accuracy: 0.8094\n",
            "Epoch 14/50\n",
            "1562/1562 [==============================] - 28s 18ms/step - loss: 0.5727 - accuracy: 0.8064 - val_loss: 0.5593 - val_accuracy: 0.8132\n",
            "Epoch 15/50\n",
            "1562/1562 [==============================] - 28s 18ms/step - loss: 0.5600 - accuracy: 0.8127 - val_loss: 0.5270 - val_accuracy: 0.8223\n",
            "Epoch 16/50\n",
            "1562/1562 [==============================] - 28s 18ms/step - loss: 0.5503 - accuracy: 0.8141 - val_loss: 0.4878 - val_accuracy: 0.8358\n",
            "Epoch 17/50\n",
            "1562/1562 [==============================] - 28s 18ms/step - loss: 0.5337 - accuracy: 0.8192 - val_loss: 0.5184 - val_accuracy: 0.8245\n",
            "Epoch 18/50\n",
            "1562/1562 [==============================] - 28s 18ms/step - loss: 0.5185 - accuracy: 0.8221 - val_loss: 0.5315 - val_accuracy: 0.8240\n",
            "Epoch 19/50\n",
            "1562/1562 [==============================] - 28s 18ms/step - loss: 0.5155 - accuracy: 0.8269 - val_loss: 0.5215 - val_accuracy: 0.8280\n",
            "Epoch 19: early stopping\n",
            "313/313 [==============================] - 1s 4ms/step - loss: 0.5215 - accuracy: 0.8280\n"
          ]
        },
        {
          "output_type": "execute_result",
          "data": {
            "text/plain": [
              "[0.5214748382568359, 0.828000009059906]"
            ]
          },
          "metadata": {},
          "execution_count": 2
        }
      ]
    },
    {
      "cell_type": "code",
      "source": [
        ""
      ],
      "metadata": {
        "id": "oV0CVE_H3suR"
      },
      "execution_count": null,
      "outputs": []
    },
    {
      "cell_type": "code",
      "source": [
        ""
      ],
      "metadata": {
        "id": "frSswxhj3srn"
      },
      "execution_count": null,
      "outputs": []
    },
    {
      "cell_type": "code",
      "source": [
        ""
      ],
      "metadata": {
        "id": "8Dmlt3qg3so3"
      },
      "execution_count": null,
      "outputs": []
    },
    {
      "cell_type": "code",
      "source": [
        ""
      ],
      "metadata": {
        "id": "ulKpIiR43smg"
      },
      "execution_count": null,
      "outputs": []
    },
    {
      "cell_type": "markdown",
      "source": [
        "# Article Finalized"
      ],
      "metadata": {
        "id": "wxqRKrVfADf6"
      }
    },
    {
      "cell_type": "code",
      "source": [
        "import numpy as np\n",
        "import matplotlib.pyplot as plt\n",
        "import seaborn as sns\n",
        "import tensorflow as tf \n",
        "\n",
        "cifar10 = tf.keras.datasets.cifar10\n",
        "(X_train, y_train), (X_test, y_test) = cifar10.load_data()\n",
        "\n",
        "# print(X_train.shape, X_test.shape, y_train.shape, y_test.shape)\n",
        "\n",
        "X_train  = X_train/255.0\n",
        "X_test  = X_test/255.0\n",
        "\n",
        "\n",
        "from tensorflow.keras.utils import to_categorical\n",
        "\n",
        "y_train = tf.keras.utils.to_categorical(y_train, 10)\n",
        "y_test = tf.keras.utils.to_categorical(y_test, 10)\n",
        "\n",
        "from keras.models import Sequential, load_model\n",
        "from keras.layers import Conv2D, MaxPool2D, Flatten, Dense, Dropout,BatchNormalization\n",
        "\n",
        "\n",
        "model = Sequential()\n",
        "\n",
        "# Convolutional Layer\n",
        "model.add(Conv2D(filters = 32, \n",
        "                 kernel_size = (3,3), \n",
        "                 input_shape = (32, 32, 3 ),\n",
        "                 activation = 'relu',\n",
        "                 padding='same'))\n",
        "model.add(BatchNormalization())\n",
        "model.add(Conv2D(filters=32, kernel_size=(3, 3), activation='relu', padding='same'))\n",
        "model.add(BatchNormalization())\n",
        "\n",
        "# Pooling layer\n",
        "model.add(MaxPool2D( pool_size = (2,2)))\n",
        "\n",
        "# Dropout Layer\n",
        "model.add(Dropout(0.25))\n",
        "\n",
        "\n",
        "model.add(Conv2D(filters=64, kernel_size=(3, 3), activation='relu', padding='same'))\n",
        "model.add(BatchNormalization())\n",
        "model.add(Conv2D(filters=64, kernel_size=(3, 3), activation='relu', padding='same'))\n",
        "model.add(BatchNormalization())\n",
        "\n",
        "model.add(MaxPool2D(pool_size=(2, 2)))\n",
        "model.add(Dropout(0.25))\n",
        "\n",
        "\n",
        "model.add(Conv2D(filters=128, kernel_size=(3, 3), activation='relu', padding='same'))\n",
        "model.add(BatchNormalization())\n",
        "model.add(Conv2D(filters=128, kernel_size=(3, 3), activation='relu', padding='same'))\n",
        "model.add(BatchNormalization())\n",
        "\n",
        "model.add(MaxPool2D(pool_size=(2, 2)))\n",
        "model.add(Dropout(0.25))\n",
        "\n",
        "# Flattening \n",
        "model.add(Flatten())\n",
        "\n",
        "# Fully connected layers\n",
        "model.add(Dense(128, activation = 'relu'))\n",
        "model.add(Dropout(0.25))\n",
        "model.add(Dense(10, activation = 'softmax'))\n",
        "\n",
        "\n",
        "\n",
        "# compilation\n",
        "model.compile(loss = 'categorical_crossentropy', optimizer = 'adam', \n",
        "metrics = 'accuracy')\n",
        "\n",
        "# model training\n",
        "model.fit(X_train, y_train, epochs=12)\n",
        "\n",
        "prediction = model.evaluate(X_test, y_test)\n",
        "print(f'Test Accuracy : {prediction[1] * 100:.2f}%')\n",
        "\n",
        "\n",
        "\n"
      ],
      "metadata": {
        "colab": {
          "base_uri": "https://localhost:8080/"
        },
        "id": "etVNQPPd3sjw",
        "outputId": "5b34ee93-6003-4e71-df8d-c27c042d3f57"
      },
      "execution_count": null,
      "outputs": [
        {
          "output_type": "stream",
          "name": "stdout",
          "text": [
            "Downloading data from https://www.cs.toronto.edu/~kriz/cifar-10-python.tar.gz\n",
            "170500096/170498071 [==============================] - 2s 0us/step\n",
            "170508288/170498071 [==============================] - 2s 0us/step\n",
            "Epoch 1/12\n",
            "1563/1563 [==============================] - 41s 20ms/step - loss: 1.5154 - accuracy: 0.4576\n",
            "Epoch 2/12\n",
            "1563/1563 [==============================] - 27s 17ms/step - loss: 1.0932 - accuracy: 0.6179\n",
            "Epoch 3/12\n",
            "1563/1563 [==============================] - 27s 17ms/step - loss: 0.9253 - accuracy: 0.6783\n",
            "Epoch 4/12\n",
            "1563/1563 [==============================] - 27s 17ms/step - loss: 0.8151 - accuracy: 0.7184\n",
            "Epoch 5/12\n",
            "1563/1563 [==============================] - 27s 17ms/step - loss: 0.7321 - accuracy: 0.7514\n",
            "Epoch 6/12\n",
            "1563/1563 [==============================] - 27s 17ms/step - loss: 0.6681 - accuracy: 0.7701\n",
            "Epoch 7/12\n",
            "1563/1563 [==============================] - 27s 17ms/step - loss: 0.6161 - accuracy: 0.7908\n",
            "Epoch 8/12\n",
            "1563/1563 [==============================] - 27s 17ms/step - loss: 0.5777 - accuracy: 0.8042\n",
            "Epoch 9/12\n",
            "1563/1563 [==============================] - 27s 17ms/step - loss: 0.5399 - accuracy: 0.8149\n",
            "Epoch 10/12\n",
            "1563/1563 [==============================] - 27s 17ms/step - loss: 0.5054 - accuracy: 0.8271\n",
            "Epoch 11/12\n",
            "1563/1563 [==============================] - 27s 17ms/step - loss: 0.4809 - accuracy: 0.8336\n",
            "Epoch 12/12\n",
            "1563/1563 [==============================] - 27s 17ms/step - loss: 0.4523 - accuracy: 0.8446\n",
            "313/313 [==============================] - 4s 10ms/step - loss: 0.5558 - accuracy: 0.8226\n",
            "Test Accuracy : 82.26%\n"
          ]
        }
      ]
    },
    {
      "cell_type": "code",
      "source": [
        ""
      ],
      "metadata": {
        "id": "zPoihhBj-Yc2"
      },
      "execution_count": null,
      "outputs": []
    }
  ]
}